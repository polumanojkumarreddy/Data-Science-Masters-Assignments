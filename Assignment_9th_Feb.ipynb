{
 "cells": [
  {
   "cell_type": "code",
   "execution_count": 1,
   "id": "a41f6b31-a414-4655-a906-6fccec4f3dbf",
   "metadata": {},
   "outputs": [],
   "source": [
    "## Q1, Create a vehicle class with an init method having instance variables as name_of_vehicle, max_speed\n",
    "## and average_of_vehicle.\n",
    "\n",
    "class vehicle:\n",
    "    \n",
    "    def __init__(self,name_of_vehicle,max_speed,average_of_vehicle):\n",
    "        self.name_of_vehicle = name_of_vehicle\n",
    "        self.max_speed = max_speed\n",
    "        self.average_of_vehicle  = average_of_vehicle\n",
    "        "
   ]
  },
  {
   "cell_type": "code",
   "execution_count": 13,
   "id": "644d1ebb-c371-4d4a-a0b1-0d4d0638571e",
   "metadata": {},
   "outputs": [],
   "source": [
    "### Q2. Create a child class car from the vehicle class created in Que 1, which will inherit the vehicle class.\n",
    "##Create a method named seating_capacity which takes capacity as an argument and returns the name of\n",
    "## the vehicle and its seating capacity.\n",
    "\n",
    "class car(vehicle):\n",
    "    \n",
    "    def seating_capacity(capacity):\n",
    "        print(\"name of car is \" ,kia.name_of_vehicle)\n",
    "        return f\" Its seating capacity is {capacity}\""
   ]
  },
  {
   "cell_type": "code",
   "execution_count": 11,
   "id": "a69636b2-de42-4562-a27b-2a8b67fa7e6d",
   "metadata": {},
   "outputs": [],
   "source": [
    "kia = car(\"KIA SELTOS\" ,190, 54)"
   ]
  },
  {
   "cell_type": "code",
   "execution_count": 14,
   "id": "ae34b069-4e42-456c-bedb-8e31333be649",
   "metadata": {},
   "outputs": [
    {
     "name": "stdout",
     "output_type": "stream",
     "text": [
      "name of car is  KIA SELTOS\n"
     ]
    },
    {
     "data": {
      "text/plain": [
       "' Its seating capacity is 5'"
      ]
     },
     "execution_count": 14,
     "metadata": {},
     "output_type": "execute_result"
    }
   ],
   "source": [
    "car.seating_capacity(5)"
   ]
  },
  {
   "cell_type": "markdown",
   "id": "6f6714f2-7a0a-4056-affd-9a9a1d7ac4a8",
   "metadata": {},
   "source": [
    "## Q3. What is multiple inheritance? Write a python code to demonstrate multiple inheritance.\n",
    "### Ans: Multiple Inheritance is a, class is inheriting properties from two different classes ."
   ]
  },
  {
   "cell_type": "code",
   "execution_count": 21,
   "id": "b50a64e0-449c-4478-9495-6801ea4bd594",
   "metadata": {},
   "outputs": [],
   "source": [
    "## code for multiple inheritance\n",
    "\n",
    "class a:\n",
    "    def test1(self):\n",
    "        print(\"this is class a\")"
   ]
  },
  {
   "cell_type": "code",
   "execution_count": 22,
   "id": "2ef54c86-946d-45f6-8cf1-40c0316e289b",
   "metadata": {},
   "outputs": [],
   "source": [
    "class b:\n",
    "    def test2(self):\n",
    "        print(\"this is class b\")"
   ]
  },
  {
   "cell_type": "code",
   "execution_count": 23,
   "id": "f4c8a423-eafc-48a0-a7c0-dc176c101acf",
   "metadata": {},
   "outputs": [],
   "source": [
    "class c(a,b):\n",
    "    def test3(self):\n",
    "        print(\"this is class c\")"
   ]
  },
  {
   "cell_type": "code",
   "execution_count": 24,
   "id": "8feb6d39-f5d3-47e3-989d-bb8ab7510aba",
   "metadata": {},
   "outputs": [],
   "source": [
    "C = c()"
   ]
  },
  {
   "cell_type": "code",
   "execution_count": 27,
   "id": "a31b3519-f4da-4efa-9cfb-15a5970d91a0",
   "metadata": {},
   "outputs": [
    {
     "name": "stdout",
     "output_type": "stream",
     "text": [
      "this is class a\n",
      "this is class b\n",
      "this is class c\n"
     ]
    }
   ],
   "source": [
    "## object of class c has inherited all the properties of class a and class b.\n",
    "\n",
    "C.test1()\n",
    "C.test2()\n",
    "C.test3()"
   ]
  },
  {
   "cell_type": "markdown",
   "id": "adc0118b-5e6e-4fc2-9af0-c47106d5ad9d",
   "metadata": {},
   "source": [
    "## Q4. What are getter and setter in python? Create a class and create a getter and a setter method in this class."
   ]
  },
  {
   "cell_type": "markdown",
   "id": "26737292-f825-4f2d-8f7b-5ab7b6b47548",
   "metadata": {},
   "source": [
    "Ans: getter and seter methods are used to modify and access the private and protected attributes of the class"
   ]
  },
  {
   "cell_type": "code",
   "execution_count": 1,
   "id": "3becd4ad-3263-4cc0-b825-c348a68a52f9",
   "metadata": {},
   "outputs": [],
   "source": [
    "class person:\n",
    "    def __init__(self,name):\n",
    "        self.__name = name\n",
    "        \n",
    "    @property\n",
    "    def name(self):\n",
    "        return self.__name\n",
    "    \n",
    "    @name.setter\n",
    "    def set_name(self,setname):\n",
    "        self.__name = setname"
   ]
  },
  {
   "cell_type": "code",
   "execution_count": 2,
   "id": "407642f0-0f9b-45c5-bf34-983554ea0c40",
   "metadata": {},
   "outputs": [],
   "source": [
    "per = person(\"manoj\")"
   ]
  },
  {
   "cell_type": "code",
   "execution_count": 4,
   "id": "7556f7ec-536c-4aef-abf8-792ebfa1e967",
   "metadata": {},
   "outputs": [
    {
     "data": {
      "text/plain": [
       "'manoj'"
      ]
     },
     "execution_count": 4,
     "metadata": {},
     "output_type": "execute_result"
    }
   ],
   "source": [
    "per._person__name"
   ]
  },
  {
   "cell_type": "code",
   "execution_count": 6,
   "id": "8dae1145-a3b2-462c-bda0-cb327f5d9640",
   "metadata": {},
   "outputs": [],
   "source": [
    "per.set_name = \"luffy\""
   ]
  },
  {
   "cell_type": "code",
   "execution_count": 8,
   "id": "def684f6-2efa-4637-834b-bf80983ff756",
   "metadata": {},
   "outputs": [
    {
     "data": {
      "text/plain": [
       "'luffy'"
      ]
     },
     "execution_count": 8,
     "metadata": {},
     "output_type": "execute_result"
    }
   ],
   "source": [
    "per._person__name"
   ]
  },
  {
   "cell_type": "markdown",
   "id": "b68a416e-cba3-4424-a839-ad5055eab334",
   "metadata": {},
   "source": [
    "## Q5.What is method overriding in python? Write a python code to demonstrate method overriding."
   ]
  },
  {
   "cell_type": "markdown",
   "id": "acbea8f7-7bdf-4c6e-b3a4-1a51cf292a63",
   "metadata": {},
   "source": [
    "Ans: Method overriding is a object-oriented programmming  concept where the subclass provides an implementation of a method which ia already in the superclass. Here the sublass will have the same method name ,return type but will give diffferent implementation for different object."
   ]
  },
  {
   "cell_type": "code",
   "execution_count": 12,
   "id": "b8c133d2-9f61-4c3a-b4ff-9bde6d3de16f",
   "metadata": {},
   "outputs": [],
   "source": [
    "## Program\n",
    "\n",
    "class animal:\n",
    "    def sound(self):\n",
    "        print(\"Animals make sounds\")\n",
    "        \n",
    "class cat:\n",
    "    def sound(self):\n",
    "        print(\"Meow Meow\")\n",
    "        \n",
    "class dog:\n",
    "    def sound(self):\n",
    "        print(\"bow bow\")"
   ]
  },
  {
   "cell_type": "code",
   "execution_count": 13,
   "id": "6fd16100-f890-4894-8f9c-d0a184fce503",
   "metadata": {},
   "outputs": [],
   "source": [
    "a=animal()\n",
    "c=cat()\n",
    "d=dog()"
   ]
  },
  {
   "cell_type": "code",
   "execution_count": 14,
   "id": "d2529975-98b8-45c7-b151-2ee380f47e17",
   "metadata": {},
   "outputs": [
    {
     "name": "stdout",
     "output_type": "stream",
     "text": [
      "Animals make sounds\n",
      "Meow Meow\n",
      "bow bow\n"
     ]
    }
   ],
   "source": [
    "a.sound()\n",
    "c.sound()\n",
    "d.sound()"
   ]
  },
  {
   "cell_type": "code",
   "execution_count": null,
   "id": "5a094ac9-0cc1-4e09-94f7-3ab47c602d8c",
   "metadata": {},
   "outputs": [],
   "source": []
  }
 ],
 "metadata": {
  "kernelspec": {
   "display_name": "Python 3 (ipykernel)",
   "language": "python",
   "name": "python3"
  },
  "language_info": {
   "codemirror_mode": {
    "name": "ipython",
    "version": 3
   },
   "file_extension": ".py",
   "mimetype": "text/x-python",
   "name": "python",
   "nbconvert_exporter": "python",
   "pygments_lexer": "ipython3",
   "version": "3.10.8"
  }
 },
 "nbformat": 4,
 "nbformat_minor": 5
}
