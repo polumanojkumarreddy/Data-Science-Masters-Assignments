{
 "cells": [
  {
   "cell_type": "markdown",
   "id": "0bd9d5c6-dcd7-48b6-ba8a-b39bf3fb6589",
   "metadata": {},
   "source": [
    "1. Write a program to accept percentage from the user and display the grade according to the following \n",
    "criteria: \n",
    "Marks \n",
    "Grade \n",
    ">90 \n",
    "A \n",
    ">80 and <=90 \n",
    "B \n",
    ">=60 and <=80 \n",
    "C \n",
    "below 60 \n",
    "D \n"
   ]
  },
  {
   "cell_type": "code",
   "execution_count": null,
   "id": "91721b04-7e22-4dcd-8fc3-652b7ccf4e6f",
   "metadata": {},
   "outputs": [],
   "source": [
    "marks=int(input(\"Enter the marks of student\"))\n",
    "if marks>90:\n",
    "    print(\"Grade is A\")\n",
    "elif marks>80 and marks<=90:\n",
    "    print(\"Grade is B\")\n",
    "elif marks>=60 and marks<=80:\n",
    "    print(\"Grade is C\")\n",
    "else:\n",
    "    print(\"Grade is D\")"
   ]
  },
  {
   "cell_type": "markdown",
   "id": "6d430e03-6d0b-4c5b-a6f5-45f157f7bd30",
   "metadata": {},
   "source": [
    "2. Write a program to accept the cost price of a bike and display the road tax to be paid according to the \n",
    "following criteria: \n",
    "Tax \n",
    "15% \n",
    "10% \n",
    "5% \n",
    "Cost Price(in Rs) \n",
    ">100000 \n",
    "5 \n",
    "50000 and <= 100000 \n",
    "<= 50000 \n"
   ]
  },
  {
   "cell_type": "code",
   "execution_count": null,
   "id": "8f5df6b2-c8f4-4b18-ab6b-19da42f5da7e",
   "metadata": {},
   "outputs": [],
   "source": [
    "cost_price=int(input(\"Enter the cost of the bike\"))\n",
    "if cost_price > 100000:\n",
    "    tax=0.15*cost_price\n",
    "    print(\"Road tax to be paid is\",tax)\n",
    "elif cost_price >50000 and cost_price <=100000:\n",
    "    tax=0.1*cost_price\n",
    "    print(\"Road tax to be paid is\",tax)\n",
    "elif cost_price <=50000:\n",
    "    tax=0.05*cost_price\n",
    "    print(\"Road tax to be paid is\",tax)"
   ]
  },
  {
   "cell_type": "markdown",
   "id": "3c6afa9d-cff5-4f0f-9b10-bfaa47c8445d",
   "metadata": {},
   "source": [
    "3. Accept any city from the user and display monuments of that city. \n",
    "City \n",
    "Delhi \n",
    "Monument \n",
    "Red Fort \n",
    "Taj Mahal \n",
    "Agra \n",
    "Jaipur \n",
    "Jal Mahal \n"
   ]
  },
  {
   "cell_type": "code",
   "execution_count": null,
   "id": "7ea76d9d-7589-4c40-8bd1-8faa4f91af27",
   "metadata": {},
   "outputs": [],
   "source": [
    "city=input(\"Enter the name of city\")\n",
    "if city==\"Delhi\":\n",
    "    print(\"Mounument in Delhi is : Red Fort\")\n",
    "elif city==\"Agra\":\n",
    "    print(\"Mounument in Agra is : Taj Mahal\")\n",
    "elif city==\"Jaipur\":\n",
    "    print(\"Mounument in Jaipur is : Jal Mahal\")"
   ]
  },
  {
   "cell_type": "markdown",
   "id": "89dc259a-dc3c-4580-800f-8a508227d735",
   "metadata": {},
   "source": [
    "4. Check how many times a given number can be divided by 3 before it is less than or equal to 10. "
   ]
  },
  {
   "cell_type": "code",
   "execution_count": null,
   "id": "81fb7af0-65ca-4127-8e28-d1c128f9af16",
   "metadata": {},
   "outputs": [],
   "source": [
    "num=int(input(\"Enter the number\"))\n",
    "count = 0\n",
    "while num >10:\n",
    "    n/=3\n",
    "    count+=1\n",
    "print(f\"The number is {count} times divided by 3 before it is less than or equal to ten\")"
   ]
  },
  {
   "cell_type": "markdown",
   "id": "aea8b6e9-5830-4376-9c34-3d72922a116f",
   "metadata": {},
   "source": [
    "Q5. Why and when to use while loop in python give a detailed description with example"
   ]
  },
  {
   "cell_type": "markdown",
   "id": "fb313060-0a3c-4456-beaf-a7e5cddb3fdd",
   "metadata": {},
   "source": [
    "Ans: While loop is used to execute a particular set of code for multiple times under a given condition.While loop can only be applied when a particular condition is given."
   ]
  },
  {
   "cell_type": "code",
   "execution_count": null,
   "id": "8daaf41d-5d24-4ee9-8472-ac46eb155f82",
   "metadata": {},
   "outputs": [],
   "source": [
    "## Example for while loop\n",
    "\n",
    "count=0 \n",
    "while count <5:\n",
    "    print(\"The count is : \",count )\n",
    "    count+-1\n",
    "print(\"The while lop has ended\")"
   ]
  },
  {
   "cell_type": "markdown",
   "id": "bf46db78-49cd-48e0-8e61-fbf310999bcf",
   "metadata": {},
   "source": [
    "Q6. Use nested while loop to print 3 different pattern."
   ]
  },
  {
   "cell_type": "code",
   "execution_count": null,
   "id": "cc19c2e4-0215-44a6-8d32-4bbaeecd7783",
   "metadata": {},
   "outputs": [],
   "source": [
    "## program 1\n",
    "\n",
    "i = 1\n",
    "n = 4\n",
    "while i <= n:\n",
    "    j = 1\n",
    "    while j <= n:\n",
    "        print(i**2, end=\" \")\n",
    "        j += 1\n",
    "    print()\n",
    "    i += 1\n"
   ]
  },
  {
   "cell_type": "code",
   "execution_count": null,
   "id": "e7faddd0-3f49-45db-a8e0-3ddad3890160",
   "metadata": {},
   "outputs": [],
   "source": [
    "## program 2\n",
    "\n"
   ]
  },
  {
   "cell_type": "code",
   "execution_count": null,
   "id": "f7c72a2a-83ce-4703-9e12-56c27b3d1286",
   "metadata": {},
   "outputs": [],
   "source": []
  },
  {
   "cell_type": "markdown",
   "id": "d46d2aff-f697-42e1-84ea-225336e43452",
   "metadata": {},
   "source": [
    "Q7. reverse while loop to display numbers from 10 to1"
   ]
  },
  {
   "cell_type": "code",
   "execution_count": null,
   "id": "0f905bb0-b373-4689-bb1a-a1363e608b68",
   "metadata": {},
   "outputs": [],
   "source": [
    "i=10\n",
    "while i>=1:\n",
    "    print(i)\n",
    "    i-=1"
   ]
  },
  {
   "cell_type": "code",
   "execution_count": null,
   "id": "a4a810f5-c242-4837-a06f-ab6586bb4d5d",
   "metadata": {},
   "outputs": [],
   "source": []
  }
 ],
 "metadata": {
  "kernelspec": {
   "display_name": "Python 3 (ipykernel)",
   "language": "python",
   "name": "python3"
  },
  "language_info": {
   "codemirror_mode": {
    "name": "ipython",
    "version": 3
   },
   "file_extension": ".py",
   "mimetype": "text/x-python",
   "name": "python",
   "nbconvert_exporter": "python",
   "pygments_lexer": "ipython3",
   "version": "3.10.8"
  }
 },
 "nbformat": 4,
 "nbformat_minor": 5
}
