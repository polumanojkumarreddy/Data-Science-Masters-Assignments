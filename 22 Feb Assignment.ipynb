{
 "cells": [
  {
   "cell_type": "markdown",
   "id": "fddb4409-3339-4b5b-9c4f-729252288cc3",
   "metadata": {},
   "source": [
    "### Q1. Create a Pandas Series that contains the following data: 4, 8, 15, 16, 23, and 42. Then, print the series.\n"
   ]
  },
  {
   "cell_type": "code",
   "execution_count": 1,
   "id": "51378cc8-4194-4dea-bc9d-45ac5b913c82",
   "metadata": {},
   "outputs": [],
   "source": [
    "import pandas as pd"
   ]
  },
  {
   "cell_type": "code",
   "execution_count": 2,
   "id": "42d1845d-2235-473c-a382-559fbaefabfc",
   "metadata": {},
   "outputs": [
    {
     "name": "stdout",
     "output_type": "stream",
     "text": [
      "0     4\n",
      "1     8\n",
      "2    15\n",
      "3    16\n",
      "4    23\n",
      "5    42\n",
      "dtype: int64\n"
     ]
    }
   ],
   "source": [
    "data = [4,8,15,16,23,42]\n",
    "ser = pd.Series(data)\n",
    "print(ser)"
   ]
  },
  {
   "cell_type": "markdown",
   "id": "1a8f4bfb-d910-47ea-a9e0-529fce3bbf21",
   "metadata": {},
   "source": [
    "### Q2. Create a variable of list type containing 10 elements in it, and apply pandas.Series function on thevariable print it."
   ]
  },
  {
   "cell_type": "code",
   "execution_count": 3,
   "id": "1a43d131-2262-42c1-abb1-55a73549133f",
   "metadata": {},
   "outputs": [
    {
     "name": "stdout",
     "output_type": "stream",
     "text": [
      "0     1\n",
      "1     2\n",
      "2     3\n",
      "3     4\n",
      "4     5\n",
      "5     6\n",
      "6     7\n",
      "7     8\n",
      "8     9\n",
      "9    10\n",
      "dtype: int64\n"
     ]
    }
   ],
   "source": [
    "lst = [1,2,3,4,5,6,7,8,9,10]\n",
    "ser2 = pd.Series(lst)\n",
    "print(ser2)"
   ]
  },
  {
   "cell_type": "markdown",
   "id": "4abfd1cb-8134-42ec-a8c1-662d952cc60f",
   "metadata": {},
   "source": [
    "### Q3. Create a Pandas DataFrame that contains the following data: Then, print the DataFrame."
   ]
  },
  {
   "cell_type": "code",
   "execution_count": 4,
   "id": "d4fb9cd4-c07e-46c1-b899-d5f7c1fe07e0",
   "metadata": {},
   "outputs": [
    {
     "name": "stdout",
     "output_type": "stream",
     "text": [
      "     name  age  Gender\n",
      "0   alice   25  female\n",
      "1     bob   30    male\n",
      "2  claire   27  female\n"
     ]
    }
   ],
   "source": [
    "df=pd.DataFrame({\"name\":[\"alice\",\"bob\",\"claire\"],\"age\":[25,30,27],\"Gender\":[\"female\",\"male\",\"female\"]})\n",
    "print(df)\n"
   ]
  },
  {
   "cell_type": "markdown",
   "id": "63835185-fa1e-4fb5-b8b6-37c89cf2a45a",
   "metadata": {},
   "source": [
    "### Q4. What is ‘DataFrame’ in pandas and how is it different from pandas.series? Explain with an example."
   ]
  },
  {
   "cell_type": "markdown",
   "id": "62a6259a-6235-410d-834b-29a0e11b7c4e",
   "metadata": {},
   "source": [
    "Ans: A Data frame is a two-dimensional data structure, i.e., data is aligned in a tabular fashion in rows and columns. Pandas DataFrame consists of three principal components, the data, rows, and columns, where as series is a single dimension  capable of holding data of any type (integer, string, float, python objects, etc.)."
   ]
  },
  {
   "cell_type": "code",
   "execution_count": 6,
   "id": "ffd9d928-fc00-495c-a711-c30190f9c254",
   "metadata": {},
   "outputs": [
    {
     "name": "stdout",
     "output_type": "stream",
     "text": [
      "Series example\n",
      "0     1\n",
      "1     2\n",
      "2     3\n",
      "3     4\n",
      "4     5\n",
      "5     6\n",
      "6     7\n",
      "7     8\n",
      "8     9\n",
      "9    10\n",
      "dtype: int64\n",
      "Data Frame example\n",
      "     name  age  Gender\n",
      "0   alice   25  female\n",
      "1     bob   30    male\n",
      "2  claire   27  female\n"
     ]
    }
   ],
   "source": [
    "## Example\n",
    "print(\"Series example\")\n",
    "lst = [1,2,3,4,5,6,7,8,9,10]\n",
    "ser2 = pd.Series(lst)\n",
    "print(ser2)\n",
    "\n",
    "print(\"Data Frame example\")\n",
    "df=pd.DataFrame({\"name\":[\"alice\",\"bob\",\"claire\"],\"age\":[25,30,27],\"Gender\":[\"female\",\"male\",\"female\"]})\n",
    "print(df)\n",
    "df."
   ]
  },
  {
   "cell_type": "markdown",
   "id": "7b3fb788-3b46-4185-80cc-a39da4a33477",
   "metadata": {},
   "source": [
    "### Q5. What are some common functions you can use to manipulate data in a Pandas DataFrame? Can you give an example of when you might use one of these functions?"
   ]
  },
  {
   "cell_type": "markdown",
   "id": "cf34a7f4-e80a-43b6-b806-a2b62e814e00",
   "metadata": {},
   "source": [
    "Ans: Functions used to manipulate data are head(),tail(),loc(),iloc(),describe(),groupby(),merge(),fillna() etc.,"
   ]
  },
  {
   "cell_type": "markdown",
   "id": "13083848-27b8-4366-b533-378ee50c46db",
   "metadata": {},
   "source": [
    "### Q6. Which of the following is mutable in nature Series, DataFrame, Panel?\n"
   ]
  },
  {
   "cell_type": "markdown",
   "id": "e77defdd-1ca9-4ab5-809b-75c862ed7340",
   "metadata": {},
   "source": [
    "Ans: DataFrame and  Series  are mutable where as panel is immutable."
   ]
  },
  {
   "cell_type": "markdown",
   "id": "178eec6e-02b3-47d9-8bf3-9cc82951fb5d",
   "metadata": {},
   "source": [
    "### Q7. Create a DataFrame using multiple Series. Explain with an example."
   ]
  },
  {
   "cell_type": "code",
   "execution_count": 3,
   "id": "67495a1c-4f46-4d74-bf57-f75cb16df808",
   "metadata": {},
   "outputs": [
    {
     "name": "stdout",
     "output_type": "stream",
     "text": [
      "     0\n",
      "6  NaN\n",
      "7  NaN\n",
      "8  NaN\n",
      "9  NaN\n",
      "0  1.0\n"
     ]
    }
   ],
   "source": [
    "name=['luffy','zoro','sanji','ussop']\n",
    "d2=[3000000000,1100000000,100000]\n",
    "s1=pd.Series(d1)\n",
    "s2=pd.Series(d2)\n",
    "df = pd.DataFrame(s1,s2)\n",
    "print(df)"
   ]
  },
  {
   "cell_type": "code",
   "execution_count": null,
   "id": "fa3a8852-d665-4044-9e88-80a79b42f03d",
   "metadata": {},
   "outputs": [],
   "source": []
  }
 ],
 "metadata": {
  "kernelspec": {
   "display_name": "Python 3 (ipykernel)",
   "language": "python",
   "name": "python3"
  },
  "language_info": {
   "codemirror_mode": {
    "name": "ipython",
    "version": 3
   },
   "file_extension": ".py",
   "mimetype": "text/x-python",
   "name": "python",
   "nbconvert_exporter": "python",
   "pygments_lexer": "ipython3",
   "version": "3.10.8"
  }
 },
 "nbformat": 4,
 "nbformat_minor": 5
}
