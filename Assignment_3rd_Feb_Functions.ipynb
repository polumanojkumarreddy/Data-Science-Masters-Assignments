{
 "cells": [
  {
   "cell_type": "markdown",
   "id": "0d160bbd-db15-4dd9-9f5f-e3a20122bdd6",
   "metadata": {},
   "source": [
    "### Q1. Which keyword is used to create a function? Create a function to return a list of odd numbers in the\n",
    "### range of 1 to 25.\n",
    "Ans: def key word is used too create a function in python."
   ]
  },
  {
   "cell_type": "code",
   "execution_count": 7,
   "id": "bf52f6e6-ae8f-422d-b1c1-78767e766d28",
   "metadata": {},
   "outputs": [],
   "source": [
    "## program to Create a function to return a list of odd numbers in the range of 1 to 25.\n",
    "\n",
    "def odd(num):\n",
    "    n=[]\n",
    "    for i in range(num):\n",
    "        if i%2!=0:\n",
    "            n.append(i)\n",
    "    return n\n"
   ]
  },
  {
   "cell_type": "code",
   "execution_count": 8,
   "id": "7383d993-b53e-44bc-a9d7-a4eff795efa5",
   "metadata": {},
   "outputs": [
    {
     "data": {
      "text/plain": [
       "[1, 3, 5, 7, 9, 11, 13, 15, 17, 19, 21, 23, 25]"
      ]
     },
     "execution_count": 8,
     "metadata": {},
     "output_type": "execute_result"
    }
   ],
   "source": [
    "odd(26)"
   ]
  },
  {
   "cell_type": "markdown",
   "id": "71e53d56-971a-4d6c-87f3-83c7ec2b1503",
   "metadata": {},
   "source": [
    "### Q2. Why *args and **kwargs is used in some functions? Create a function each for *args and **kwargs to\n",
    "### demonstrate their use.\n",
    " Ans: *args is used to give multiple arguments to a function,and the arguments can also be any daa type.**kwargs is used to give parameters to a function in key-value format."
   ]
  },
  {
   "cell_type": "code",
   "execution_count": 9,
   "id": "ae94d47f-3e40-48d6-8e01-50f82989cd11",
   "metadata": {},
   "outputs": [],
   "source": [
    "## Example program for *args\n",
    "\n",
    "def test1(*args):\n",
    "    return args"
   ]
  },
  {
   "cell_type": "code",
   "execution_count": 10,
   "id": "651b0151-e2e9-42d5-895f-06a212502462",
   "metadata": {},
   "outputs": [
    {
     "data": {
      "text/plain": [
       "('a',\n",
       " 'b',\n",
       " 'c',\n",
       " 1,\n",
       " 2,\n",
       " 3,\n",
       " [9, 7, 5, 3],\n",
       " (1, 2, 3, 5),\n",
       " {1, 3, 5, 'manoj'},\n",
       " {'name': 'Manoj', 'course': 'B.tech'})"
      ]
     },
     "execution_count": 10,
     "metadata": {},
     "output_type": "execute_result"
    }
   ],
   "source": [
    "test1(\"a\",'b',\"c\",1,2,3,[9,7,5,3],(1,2,3,5),{\"manoj\",1,3,5},{\"name\":\"Manoj\",\"course\":\"B.tech\"})"
   ]
  },
  {
   "cell_type": "code",
   "execution_count": 11,
   "id": "8033f501-635e-4ea3-a491-81afccb2e7c3",
   "metadata": {},
   "outputs": [],
   "source": [
    "## Evample program for **kwargs\n",
    "\n",
    "def test2(**kwargs):\n",
    "    return kwargs"
   ]
  },
  {
   "cell_type": "code",
   "execution_count": 15,
   "id": "405fc272-1764-46cd-b170-07ac9c321f33",
   "metadata": {},
   "outputs": [
    {
     "data": {
      "text/plain": [
       "{'name': ['Luffy', 'Zoro', 'Sanji', 'Nami'],\n",
       " 'Crew': 'Straw Hat Pirates',\n",
       " 'Bounty': [3000000000, 1102000000, 1000000000, 500000000]}"
      ]
     },
     "execution_count": 15,
     "metadata": {},
     "output_type": "execute_result"
    }
   ],
   "source": [
    "test2(name=[\"Luffy\",\"Zoro\",\"Sanji\",\"Nami\"],Crew=\"Straw Hat Pirates\",Bounty=[3000000000,1102000000,1000000000,500000000])"
   ]
  },
  {
   "cell_type": "markdown",
   "id": "015f2217-a86b-4c9b-b4eb-df82cbee4e66",
   "metadata": {},
   "source": [
    "### Q3. What is an iterator in python? Name the method used to initialise the iterator object and the method\n",
    "### used for iteration. Use these methods to print the first five elements of the given list [2, 4, 6, 8, 10, 12, 14, 16,\n",
    "### 18, 20].\n",
    "Ans: Iterator is an object that is used to iterate values in an iterable objects like lists,tuples,sets and Dictionary.The iter() method is used to initialize the iterator.And next() method is used to iterate the values in objects."
   ]
  },
  {
   "cell_type": "code",
   "execution_count": 17,
   "id": "bc726c77-0347-48b6-ac4d-79eb4adfb314",
   "metadata": {},
   "outputs": [
    {
     "name": "stdout",
     "output_type": "stream",
     "text": [
      "2\n",
      "4\n",
      "6\n",
      "8\n",
      "10\n",
      "12\n"
     ]
    }
   ],
   "source": [
    "## Use these methods to print the first five elements of the given list [2, 4, 6, 8, 10, 12, 14, 16,\n",
    "## 18, 20].\n",
    "\n",
    "lst=[2, 4, 6, 8, 10, 12, 14, 16,18, 20]\n",
    "itr=iter(lst)\n",
    "for i in range(6):\n",
    "    print(next(itr))\n"
   ]
  },
  {
   "cell_type": "code",
   "execution_count": null,
   "id": "8281af2a-1c0d-4bc5-9d92-9c8a2b12fec3",
   "metadata": {},
   "outputs": [],
   "source": [
    "### Q4. What is a generator function in python? Why yield keyword is used? Give an example of a generator\n",
    "### function.\n",
    "Ans: Generator function is used to return a iterator that produces a sequence of values when iterated over.\n",
    "    yield key word is used to create a generator function .A function that is memeory efficient and can used like an iterator object.\n"
   ]
  },
  {
   "cell_type": "code",
   "execution_count": 19,
   "id": "06a25f61-9974-464c-8d46-7a9380bec631",
   "metadata": {},
   "outputs": [
    {
     "name": "stdout",
     "output_type": "stream",
     "text": [
      "1\n",
      "2\n",
      "3\n"
     ]
    }
   ],
   "source": [
    "## Example for generator function\n",
    "\n",
    "def genfun():\n",
    "    yield 1\n",
    "    yield 2\n",
    "    yield 3\n",
    "x= genfun()\n",
    "\n",
    "print(next(x))\n",
    "print(next(x))\n",
    "print(next(x))"
   ]
  },
  {
   "cell_type": "code",
   "execution_count": 2,
   "id": "9488c55c-cb86-44b2-aa8e-da8db2d99535",
   "metadata": {},
   "outputs": [],
   "source": [
    "### Q5. Create a generator function for prime numbers less than 1000. Use the next() method to print the\n",
    "### first 20 prime numbers.\n",
    "\n",
    "def primes():\n",
    "    num=2\n",
    "    while num<1000:\n",
    "        is_prime=True\n",
    "        for i in range(2,num):\n",
    "            if num%i==0:\n",
    "                is_prime=False\n",
    "                break\n",
    "        if is_prime:\n",
    "            yield num\n",
    "        num+=1"
   ]
  },
  {
   "cell_type": "code",
   "execution_count": 3,
   "id": "1e2ce78a-f5bf-4c93-a8aa-523b60fb2dfe",
   "metadata": {},
   "outputs": [
    {
     "name": "stdout",
     "output_type": "stream",
     "text": [
      "2\n",
      "3\n",
      "5\n",
      "7\n",
      "11\n",
      "13\n",
      "17\n",
      "19\n",
      "23\n",
      "29\n",
      "31\n",
      "37\n",
      "41\n",
      "43\n",
      "47\n",
      "53\n",
      "59\n",
      "61\n",
      "67\n",
      "71\n"
     ]
    }
   ],
   "source": [
    "prime_generator=primes()\n",
    "\n",
    "for i in range(20):\n",
    "    print(next(prime_generator))"
   ]
  },
  {
   "cell_type": "code",
   "execution_count": null,
   "id": "e464fe8a-ff3e-4866-8185-424b5ec75f96",
   "metadata": {},
   "outputs": [],
   "source": []
  },
  {
   "cell_type": "code",
   "execution_count": null,
   "id": "f267f3c6-876e-4142-9643-895be41d7337",
   "metadata": {},
   "outputs": [],
   "source": []
  },
  {
   "cell_type": "code",
   "execution_count": null,
   "id": "b325a975-86ce-4315-9385-d284bc4c6126",
   "metadata": {},
   "outputs": [],
   "source": []
  }
 ],
 "metadata": {
  "kernelspec": {
   "display_name": "Python 3 (ipykernel)",
   "language": "python",
   "name": "python3"
  },
  "language_info": {
   "codemirror_mode": {
    "name": "ipython",
    "version": 3
   },
   "file_extension": ".py",
   "mimetype": "text/x-python",
   "name": "python",
   "nbconvert_exporter": "python",
   "pygments_lexer": "ipython3",
   "version": "3.10.8"
  }
 },
 "nbformat": 4,
 "nbformat_minor": 5
}
