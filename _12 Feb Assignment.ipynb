{
 "cells": [
  {
   "cell_type": "markdown",
   "id": "d3ab2b9f-bfd3-4475-8888-1da4215c522f",
   "metadata": {},
   "source": [
    "## Q1. What is an Exception in Python? Write the difference between Exception and syntax errors?"
   ]
  },
  {
   "cell_type": "markdown",
   "id": "dbc8ee91-8bc7-47ac-984a-38964b547127",
   "metadata": {},
   "source": [
    "In Python, an exception is an event that occurs during the execution of a program that disrupts the normal flow of the program's instructions. When an exceptional situation arises, an object representing the exception is created, and the normal flow of the program is interrupted. This object, known as an exception object, contains information about the error, such as its type and a message describing the error.\n",
    "Example:  TypeError, ValueError, ZeroDivisionError, and FileNotFoundError.\n",
    "\n",
    "Syntax errors are occurs whenever the code violates the basic gramatical rules of python language.Syntax errors are detected by the Python interpreter during the parsing phase before the code is executed. \n"
   ]
  },
  {
   "cell_type": "markdown",
   "id": "3fdcd437-5368-4f61-baac-fbbbb64d4a39",
   "metadata": {},
   "source": [
    "## Q2. What happens when an exception is not handled? Explain with an example."
   ]
  },
  {
   "cell_type": "markdown",
   "id": "1d4dbdcf-e0e1-4a07-98fb-2455f814def3",
   "metadata": {},
   "source": [
    "When an exception is not handled then the flow of execut/ion is interrupted, and the instructions below will not be executed. Execution is done till the line where the error has occured. Here is an example"
   ]
  },
  {
   "cell_type": "code",
   "execution_count": 1,
   "id": "8e1dd104-480e-42c9-b17d-7cb72d240ee1",
   "metadata": {},
   "outputs": [
    {
     "ename": "FileNotFoundError",
     "evalue": "[Errno 2] No such file or directory: 'hello.txt'",
     "output_type": "error",
     "traceback": [
      "\u001b[1;31m---------------------------------------------------------------------------\u001b[0m",
      "\u001b[1;31mFileNotFoundError\u001b[0m                         Traceback (most recent call last)",
      "Cell \u001b[1;32mIn[1], line 1\u001b[0m\n\u001b[1;32m----> 1\u001b[0m f \u001b[38;5;241m=\u001b[39m \u001b[38;5;28;43mopen\u001b[39;49m\u001b[43m(\u001b[49m\u001b[38;5;124;43m\"\u001b[39;49m\u001b[38;5;124;43mhello.txt\u001b[39;49m\u001b[38;5;124;43m\"\u001b[39;49m\u001b[43m,\u001b[49m\u001b[38;5;124;43m'\u001b[39;49m\u001b[38;5;124;43mr\u001b[39;49m\u001b[38;5;124;43m'\u001b[39;49m\u001b[43m)\u001b[49m\n\u001b[0;32m      2\u001b[0m \u001b[38;5;28mprint\u001b[39m(\u001b[38;5;124m\"\u001b[39m\u001b[38;5;124mhi\u001b[39m\u001b[38;5;124m\"\u001b[39m)\n",
      "File \u001b[1;32mF:\\ana\\lib\\site-packages\\IPython\\core\\interactiveshell.py:282\u001b[0m, in \u001b[0;36m_modified_open\u001b[1;34m(file, *args, **kwargs)\u001b[0m\n\u001b[0;32m    275\u001b[0m \u001b[38;5;28;01mif\u001b[39;00m file \u001b[38;5;129;01min\u001b[39;00m {\u001b[38;5;241m0\u001b[39m, \u001b[38;5;241m1\u001b[39m, \u001b[38;5;241m2\u001b[39m}:\n\u001b[0;32m    276\u001b[0m     \u001b[38;5;28;01mraise\u001b[39;00m \u001b[38;5;167;01mValueError\u001b[39;00m(\n\u001b[0;32m    277\u001b[0m         \u001b[38;5;124mf\u001b[39m\u001b[38;5;124m\"\u001b[39m\u001b[38;5;124mIPython won\u001b[39m\u001b[38;5;124m'\u001b[39m\u001b[38;5;124mt let you open fd=\u001b[39m\u001b[38;5;132;01m{\u001b[39;00mfile\u001b[38;5;132;01m}\u001b[39;00m\u001b[38;5;124m by default \u001b[39m\u001b[38;5;124m\"\u001b[39m\n\u001b[0;32m    278\u001b[0m         \u001b[38;5;124m\"\u001b[39m\u001b[38;5;124mas it is likely to crash IPython. If you know what you are doing, \u001b[39m\u001b[38;5;124m\"\u001b[39m\n\u001b[0;32m    279\u001b[0m         \u001b[38;5;124m\"\u001b[39m\u001b[38;5;124myou can use builtins\u001b[39m\u001b[38;5;124m'\u001b[39m\u001b[38;5;124m open.\u001b[39m\u001b[38;5;124m\"\u001b[39m\n\u001b[0;32m    280\u001b[0m     )\n\u001b[1;32m--> 282\u001b[0m \u001b[38;5;28;01mreturn\u001b[39;00m io_open(file, \u001b[38;5;241m*\u001b[39margs, \u001b[38;5;241m*\u001b[39m\u001b[38;5;241m*\u001b[39mkwargs)\n",
      "\u001b[1;31mFileNotFoundError\u001b[0m: [Errno 2] No such file or directory: 'hello.txt'"
     ]
    }
   ],
   "source": [
    "f = open(\"hello.txt\",'r')\n",
    "print(\"hi\")"
   ]
  },
  {
   "cell_type": "markdown",
   "id": "b5dc1639-0b26-4eaf-93fc-e46ab7061c7b",
   "metadata": {},
   "source": [
    "Here the file hello.txt is not present in the directory so it cant be opened, because of that the next line is not executed and causes an error."
   ]
  },
  {
   "cell_type": "markdown",
   "id": "14567baf-c5dd-43c0-bb23-89b31d3099ea",
   "metadata": {},
   "source": [
    "## Q3. Which Python statements are used to catch and handle the exceptions? Explain with example."
   ]
  },
  {
   "cell_type": "markdown",
   "id": "d38c761c-0e61-4858-be2c-fc9730a7b5e8",
   "metadata": {},
   "source": [
    "Ans: In Python 'try' and 'except' statements are used to handle the exceptions\n",
    "\n",
    "try: In try block we write the code which is expected to give an error.\n",
    "\n",
    "except: Here the excption which is raised in the try block is handled and gives a message what is the type of exception and why has it occured.\n",
    "\n",
    "here is an example:"
   ]
  },
  {
   "cell_type": "code",
   "execution_count": 4,
   "id": "b1c3b0a9-afee-4adf-b162-a8f3ca24a3d1",
   "metadata": {},
   "outputs": [
    {
     "name": "stdout",
     "output_type": "stream",
     "text": [
      "The Exception occured is  division by zero\n"
     ]
    }
   ],
   "source": [
    "try:\n",
    "    a =10\n",
    "    print(a/0)\n",
    "except Exception as e:\n",
    "    print(\"The Exception occured is \",e)\n",
    "    "
   ]
  },
  {
   "cell_type": "markdown",
   "id": "25237d41-58bb-4256-86d5-8052fcf539c8",
   "metadata": {},
   "source": [
    "## Q4. Explain with an Example\n",
    "## a. try and else\n",
    "## b. finally\n",
    "## c. raise"
   ]
  },
  {
   "cell_type": "code",
   "execution_count": 5,
   "id": "9b28245e-6551-404c-aff4-7808a6146059",
   "metadata": {},
   "outputs": [
    {
     "name": "stdout",
     "output_type": "stream",
     "text": [
      "this line is executed when try block is executed without error\n"
     ]
    }
   ],
   "source": [
    "## try and else\n",
    "\n",
    "try:\n",
    "    \n",
    "    f = open(\"text.txt\",'w')\n",
    "    f.write(\"this is my info\")\n",
    "except Exception as e:\n",
    "    print(\"There is some problem with my code \",e)\n",
    "else:\n",
    "    f.close()\n",
    "    print(\"this line is executed when try block is executed without error\")"
   ]
  },
  {
   "cell_type": "code",
   "execution_count": 6,
   "id": "78df387c-70fd-4377-ad69-ae93406e2b21",
   "metadata": {},
   "outputs": [
    {
     "name": "stdout",
     "output_type": "stream",
     "text": [
      "this will always execute\n"
     ]
    },
    {
     "ename": "FileNotFoundError",
     "evalue": "[Errno 2] No such file or directory: 'tex.txt'",
     "output_type": "error",
     "traceback": [
      "\u001b[1;31m---------------------------------------------------------------------------\u001b[0m",
      "\u001b[1;31mFileNotFoundError\u001b[0m                         Traceback (most recent call last)",
      "Cell \u001b[1;32mIn[6], line 4\u001b[0m\n\u001b[0;32m      1\u001b[0m \u001b[38;5;66;03m## finally\u001b[39;00m\n\u001b[0;32m      3\u001b[0m \u001b[38;5;28;01mtry\u001b[39;00m:\n\u001b[1;32m----> 4\u001b[0m     f \u001b[38;5;241m=\u001b[39m \u001b[38;5;28;43mopen\u001b[39;49m\u001b[43m(\u001b[49m\u001b[38;5;124;43m\"\u001b[39;49m\u001b[38;5;124;43mtex.txt\u001b[39;49m\u001b[38;5;124;43m\"\u001b[39;49m\u001b[43m,\u001b[49m\u001b[38;5;124;43m'\u001b[39;49m\u001b[38;5;124;43mr\u001b[39;49m\u001b[38;5;124;43m'\u001b[39;49m\u001b[43m)\u001b[49m\n\u001b[0;32m      5\u001b[0m     f\u001b[38;5;241m.\u001b[39mwrite(\u001b[38;5;124m\"\u001b[39m\u001b[38;5;124mthis is my info\u001b[39m\u001b[38;5;124m\"\u001b[39m)\n\u001b[0;32m      6\u001b[0m \u001b[38;5;28;01mfinally\u001b[39;00m:\n",
      "File \u001b[1;32mF:\\ana\\lib\\site-packages\\IPython\\core\\interactiveshell.py:282\u001b[0m, in \u001b[0;36m_modified_open\u001b[1;34m(file, *args, **kwargs)\u001b[0m\n\u001b[0;32m    275\u001b[0m \u001b[38;5;28;01mif\u001b[39;00m file \u001b[38;5;129;01min\u001b[39;00m {\u001b[38;5;241m0\u001b[39m, \u001b[38;5;241m1\u001b[39m, \u001b[38;5;241m2\u001b[39m}:\n\u001b[0;32m    276\u001b[0m     \u001b[38;5;28;01mraise\u001b[39;00m \u001b[38;5;167;01mValueError\u001b[39;00m(\n\u001b[0;32m    277\u001b[0m         \u001b[38;5;124mf\u001b[39m\u001b[38;5;124m\"\u001b[39m\u001b[38;5;124mIPython won\u001b[39m\u001b[38;5;124m'\u001b[39m\u001b[38;5;124mt let you open fd=\u001b[39m\u001b[38;5;132;01m{\u001b[39;00mfile\u001b[38;5;132;01m}\u001b[39;00m\u001b[38;5;124m by default \u001b[39m\u001b[38;5;124m\"\u001b[39m\n\u001b[0;32m    278\u001b[0m         \u001b[38;5;124m\"\u001b[39m\u001b[38;5;124mas it is likely to crash IPython. If you know what you are doing, \u001b[39m\u001b[38;5;124m\"\u001b[39m\n\u001b[0;32m    279\u001b[0m         \u001b[38;5;124m\"\u001b[39m\u001b[38;5;124myou can use builtins\u001b[39m\u001b[38;5;124m'\u001b[39m\u001b[38;5;124m open.\u001b[39m\u001b[38;5;124m\"\u001b[39m\n\u001b[0;32m    280\u001b[0m     )\n\u001b[1;32m--> 282\u001b[0m \u001b[38;5;28;01mreturn\u001b[39;00m io_open(file, \u001b[38;5;241m*\u001b[39margs, \u001b[38;5;241m*\u001b[39m\u001b[38;5;241m*\u001b[39mkwargs)\n",
      "\u001b[1;31mFileNotFoundError\u001b[0m: [Errno 2] No such file or directory: 'tex.txt'"
     ]
    }
   ],
   "source": [
    "## finally\n",
    "\n",
    "try:\n",
    "    f = open(\"tex.txt\",'r')\n",
    "    f.write(\"this is my info\")\n",
    "finally:\n",
    "    print(\"this will always execute\")\n"
   ]
  },
  {
   "cell_type": "markdown",
   "id": "51a939b7-b64f-42c2-b924-5d9971ab0ae6",
   "metadata": {},
   "source": [
    "Here finally block is used to execute a block of code which is needed to be ececuted for sure even an exception is occured or not."
   ]
  },
  {
   "cell_type": "markdown",
   "id": "b7dce048-9589-420e-b6c8-dc3628d2f2a8",
   "metadata": {},
   "source": [
    "## raise\n",
    "\n",
    "def divide_numbers(a, b):\n",
    "    if b == 0:\n",
    "        raise ValueError(\"Cannot divide by zero\")\n",
    "    return a / b\n",
    "\n",
    "try:\n",
    "    result = divide_numbers(10, 2)\n",
    "    print(\"Result:\", result)\n",
    "\n",
    "    # The above line of code executes without any error but below code will give an error\n",
    "    result = divide_numbers(10, 0)\n",
    "\n",
    "except ValueError as e:\n",
    "    print(f\"Error: {e}\")\n"
   ]
  },
  {
   "cell_type": "markdown",
   "id": "6a9d34c7-dc35-43e3-8c48-9e41b6bbe67a",
   "metadata": {},
   "source": [
    "## Q5. What are Custom exceptions in python? Why do we need custom exception? Explain witha an example."
   ]
  },
  {
   "cell_type": "markdown",
   "id": "34539924-751a-4492-b7b2-6fdeb4a2e80b",
   "metadata": {},
   "source": [
    "In Python, custom exceptions are user-defined exceptions that allow you to create our own exception classes to represent specific error conditions in the code.\n",
    "And we need custom exception while handling the input given by the user it might be logical and correct to the system but illogical to the user requirements.\n",
    "\n",
    "Here is an example:"
   ]
  },
  {
   "cell_type": "code",
   "execution_count": 10,
   "id": "d30cf32f-8a93-469e-b9b0-4a52bfc9cb03",
   "metadata": {},
   "outputs": [
    {
     "name": "stdout",
     "output_type": "stream",
     "text": [
      "Error: Insufficient balance: Available balance is 1000, but tried to withdraw 1200\n"
     ]
    }
   ],
   "source": [
    "# Custom exception class\n",
    "class InsufficientBalanceError(Exception):\n",
    "    def __init__(self, balance, amount):\n",
    "        super().__init__(f\"Insufficient balance: Available balance is {balance}, but tried to withdraw {amount}\")\n",
    "\n",
    "# Bank account class\n",
    "class BankAccount:\n",
    "    def __init__(self, balance):\n",
    "        self.balance = balance\n",
    "\n",
    "    def withdraw(self, amount):\n",
    "        if amount > self.balance:\n",
    "            raise InsufficientBalanceError(self.balance, amount)\n",
    "        else:\n",
    "            self.balance -= amount\n",
    "            print(f\"Withdrawal successful. Remaining balance: {self.balance}\")\n",
    "\n",
    "# Example usage\n",
    "try:\n",
    "    account = BankAccount(1000)\n",
    "    account.withdraw(1200)  # This will raise InsufficientBalanceError\n",
    "except InsufficientBalanceError as e:\n",
    "    print(f\"Error: {e}\")\n"
   ]
  },
  {
   "cell_type": "markdown",
   "id": "0b3a62e0-1ee6-4fa7-b7cb-e1ab6e78d1b2",
   "metadata": {},
   "source": [
    "## Q6. Create a custom exception class. Use this class to handle Exceptions."
   ]
  },
  {
   "cell_type": "code",
   "execution_count": 13,
   "id": "1c7a8235-0b78-4e89-bda6-0bde076452bf",
   "metadata": {},
   "outputs": [
    {
     "name": "stdin",
     "output_type": "stream",
     "text": [
      "Enter the age:  -5\n"
     ]
    },
    {
     "name": "stdout",
     "output_type": "stream",
     "text": [
      "Age should not be less than zero.\n"
     ]
    }
   ],
   "source": [
    "class validateage(Exception):\n",
    "    def __init__(self,msg):\n",
    "        self.msg = msg\n",
    "        \n",
    "def validate_age(age):\n",
    "    if age<0:\n",
    "        raise validateage(\"Age should not be less than zero.\")\n",
    "    elif age>150:\n",
    "        raise validateage(\"Age is very high.\")\n",
    "    else:\n",
    "        print(\"Valid age\")\n",
    "        \n",
    "try:\n",
    "    age = int(input(\"Enter the age: \"))\n",
    "    validate_age(age)\n",
    "except validateage as e:\n",
    "    print(e)"
   ]
  },
  {
   "cell_type": "code",
   "execution_count": null,
   "id": "3b141cc3-27d1-4eaf-9882-06b1fa7144c9",
   "metadata": {},
   "outputs": [],
   "source": []
  }
 ],
 "metadata": {
  "kernelspec": {
   "display_name": "Python 3 (ipykernel)",
   "language": "python",
   "name": "python3"
  },
  "language_info": {
   "codemirror_mode": {
    "name": "ipython",
    "version": 3
   },
   "file_extension": ".py",
   "mimetype": "text/x-python",
   "name": "python",
   "nbconvert_exporter": "python",
   "pygments_lexer": "ipython3",
   "version": "3.10.9"
  }
 },
 "nbformat": 4,
 "nbformat_minor": 5
}
