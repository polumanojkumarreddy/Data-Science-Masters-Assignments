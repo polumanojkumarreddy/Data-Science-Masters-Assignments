{
 "cells": [
  {
   "cell_type": "markdown",
   "id": "0962b8e7-cb11-4790-96b8-0cd22905a30e",
   "metadata": {},
   "source": [
    "## Q1. Explain why we have to use the Exception class while creating a Custom Exception."
   ]
  },
  {
   "cell_type": "markdown",
   "id": "29d5d00a-8f37-466b-b222-4e85e0f0e481",
   "metadata": {},
   "source": [
    "Ans: When creating a custom exception in Python, it is recommended to inherit from the built-in Exception class or one of its subclasses. This is because the Exception class provides a standardized and consistent way to define and handle exceptions in Python."
   ]
  },
  {
   "cell_type": "markdown",
   "id": "9df4acb5-7f89-4939-b7bb-be5de11dd796",
   "metadata": {},
   "source": [
    "## Q2. Write a python program to print Python Exception Hierarchy."
   ]
  },
  {
   "cell_type": "markdown",
   "id": "5b6fa094-79a7-4ec7-8e17-ad9aefdf4422",
   "metadata": {},
   "source": [
    "In Python, the exception hierarchy is organized in a tree-like structure, with the built-in BaseException class at the root. Here's a simple Python program that prints the exception hierarchy:"
   ]
  },
  {
   "cell_type": "code",
   "execution_count": 2,
   "id": "c33411ed-0789-40fa-a587-791f19d2115f",
   "metadata": {},
   "outputs": [
    {
     "name": "stdout",
     "output_type": "stream",
     "text": [
      "BaseException\n",
      "  Exception\n",
      "    TypeError\n",
      "      FloatOperation\n",
      "      MultipartConversionError\n",
      "    StopAsyncIteration\n",
      "    StopIteration\n",
      "    ImportError\n",
      "      ModuleNotFoundError\n",
      "      ZipImportError\n",
      "    OSError\n",
      "      ConnectionError\n",
      "        BrokenPipeError\n",
      "        ConnectionAbortedError\n",
      "        ConnectionRefusedError\n",
      "        ConnectionResetError\n",
      "          RemoteDisconnected\n",
      "      BlockingIOError\n",
      "      ChildProcessError\n",
      "      FileExistsError\n",
      "      FileNotFoundError\n",
      "      IsADirectoryError\n",
      "      NotADirectoryError\n",
      "      InterruptedError\n",
      "        InterruptedSystemCall\n",
      "      PermissionError\n",
      "      ProcessLookupError\n",
      "      TimeoutError\n",
      "      UnsupportedOperation\n",
      "      herror\n",
      "      gaierror\n",
      "      SSLError\n",
      "        SSLCertVerificationError\n",
      "        SSLZeroReturnError\n",
      "        SSLWantWriteError\n",
      "        SSLWantReadError\n",
      "        SSLSyscallError\n",
      "        SSLEOFError\n",
      "      Error\n",
      "        SameFileError\n",
      "      SpecialFileError\n",
      "      ExecError\n",
      "      ReadError\n",
      "      URLError\n",
      "        HTTPError\n",
      "        ContentTooShortError\n",
      "      BadGzipFile\n",
      "    EOFError\n",
      "      IncompleteReadError\n",
      "    RuntimeError\n",
      "      RecursionError\n",
      "      NotImplementedError\n",
      "        ZMQVersionError\n",
      "        StdinNotImplementedError\n",
      "      _DeadlockError\n",
      "      BrokenBarrierError\n",
      "      BrokenExecutor\n",
      "        BrokenThreadPool\n",
      "      SendfileNotAvailableError\n",
      "      ExtractionError\n",
      "      VariableError\n",
      "    NameError\n",
      "      UnboundLocalError\n",
      "    AttributeError\n",
      "      FrozenInstanceError\n",
      "    SyntaxError\n",
      "      IndentationError\n",
      "        TabError\n",
      "    LookupError\n",
      "      IndexError\n",
      "      KeyError\n",
      "        NoSuchKernel\n",
      "        UnknownBackend\n",
      "      CodecRegistryError\n",
      "    ValueError\n",
      "      UnicodeError\n",
      "        UnicodeEncodeError\n",
      "        UnicodeDecodeError\n",
      "        UnicodeTranslateError\n",
      "      UnsupportedOperation\n",
      "      JSONDecodeError\n",
      "      SSLCertVerificationError\n",
      "      Error\n",
      "      UnsupportedDigestmodError\n",
      "      IllegalMonthError\n",
      "      IllegalWeekdayError\n",
      "      ParserError\n",
      "      ClassNotFound\n",
      "      ClipboardEmpty\n",
      "      MessageDefect\n",
      "        NoBoundaryInMultipartDefect\n",
      "        StartBoundaryNotFoundDefect\n",
      "        CloseBoundaryNotFoundDefect\n",
      "        FirstHeaderLineIsContinuationDefect\n",
      "        MisplacedEnvelopeHeaderDefect\n",
      "        MissingHeaderBodySeparatorDefect\n",
      "        MultipartInvariantViolationDefect\n",
      "        InvalidMultipartContentTransferEncodingDefect\n",
      "        UndecodableBytesDefect\n",
      "        InvalidBase64PaddingDefect\n",
      "        InvalidBase64CharactersDefect\n",
      "        InvalidBase64LengthDefect\n",
      "        HeaderDefect\n",
      "          InvalidHeaderDefect\n",
      "          HeaderMissingRequiredValue\n",
      "          NonPrintableDefect\n",
      "          ObsoleteHeaderDefect\n",
      "          NonASCIILocalPartDefect\n",
      "          InvalidDateDefect\n",
      "      MacroToEdit\n",
      "      InvalidFileException\n",
      "      UnequalIterablesError\n",
      "      InvalidVersion\n",
      "      _InvalidELFFileHeader\n",
      "      InvalidWheelFilename\n",
      "      InvalidSdistFilename\n",
      "      InvalidSpecifier\n",
      "      InvalidMarker\n",
      "      UndefinedComparison\n",
      "      UndefinedEnvironmentName\n",
      "      InvalidRequirement\n",
      "        RequirementParseError\n",
      "      InvalidVersion\n",
      "    AssertionError\n",
      "    ArithmeticError\n",
      "      FloatingPointError\n",
      "      OverflowError\n",
      "      ZeroDivisionError\n",
      "        DivisionByZero\n",
      "        DivisionUndefined\n",
      "      DecimalException\n",
      "        Clamped\n",
      "        Rounded\n",
      "          Underflow\n",
      "          Overflow\n",
      "        Inexact\n",
      "          Underflow\n",
      "          Overflow\n",
      "        Subnormal\n",
      "          Underflow\n",
      "        DivisionByZero\n",
      "        FloatOperation\n",
      "        InvalidOperation\n",
      "          ConversionSyntax\n",
      "          DivisionImpossible\n",
      "          DivisionUndefined\n",
      "          InvalidContext\n",
      "    SystemError\n",
      "      CodecRegistryError\n",
      "    ReferenceError\n",
      "    MemoryError\n",
      "    BufferError\n",
      "    Warning\n",
      "      UserWarning\n",
      "        GetPassWarning\n",
      "        FormatterWarning\n",
      "      EncodingWarning\n",
      "      DeprecationWarning\n",
      "        ProvisionalWarning\n",
      "      PendingDeprecationWarning\n",
      "      SyntaxWarning\n",
      "      RuntimeWarning\n",
      "        ProactorSelectorThreadWarning\n",
      "        UnknownTimezoneWarning\n",
      "        PEP440Warning\n",
      "      FutureWarning\n",
      "        ProvisionalCompleterWarning\n",
      "      ImportWarning\n",
      "      UnicodeWarning\n",
      "      BytesWarning\n",
      "      ResourceWarning\n",
      "      DeprecatedTzFormatWarning\n",
      "      PkgResourcesDeprecationWarning\n",
      "    _OptionError\n",
      "    _Error\n",
      "    error\n",
      "    Verbose\n",
      "    Error\n",
      "    SubprocessError\n",
      "      CalledProcessError\n",
      "      TimeoutExpired\n",
      "    TokenError\n",
      "    StopTokenizing\n",
      "    ClassFoundException\n",
      "    EndOfBlock\n",
      "    TraitError\n",
      "    Error\n",
      "    Error\n",
      "      CancelledError\n",
      "      TimeoutError\n",
      "      InvalidStateError\n",
      "    _GiveupOnSendfile\n",
      "    error\n",
      "    Incomplete\n",
      "    TimeoutError\n",
      "    InvalidStateError\n",
      "    LimitOverrunError\n",
      "    QueueEmpty\n",
      "    QueueFull\n",
      "    error\n",
      "    LZMAError\n",
      "    RegistryError\n",
      "    _GiveupOnFastCopy\n",
      "    Empty\n",
      "    Full\n",
      "    ZMQBaseError\n",
      "      ZMQError\n",
      "        ContextTerminated\n",
      "        Again\n",
      "        InterruptedSystemCall\n",
      "      ZMQBindError\n",
      "      NotDone\n",
      "    PickleError\n",
      "      PicklingError\n",
      "      UnpicklingError\n",
      "    _Stop\n",
      "    ArgumentError\n",
      "    ArgumentTypeError\n",
      "    ConfigError\n",
      "      ConfigLoaderError\n",
      "        ArgumentError\n",
      "      ConfigFileNotFound\n",
      "    ConfigurableError\n",
      "      MultipleInstanceError\n",
      "    ApplicationError\n",
      "    TimeoutError\n",
      "    ArgumentError\n",
      "    COMError\n",
      "    ReturnValueIgnoredError\n",
      "    KeyReuseError\n",
      "    UnknownKeyError\n",
      "    LeakedCallbackError\n",
      "    BadYieldError\n",
      "    ReturnValueIgnoredError\n",
      "    Return\n",
      "    InvalidPortNumber\n",
      "    NoIPAddresses\n",
      "    BadZipFile\n",
      "    LargeZipFile\n",
      "    Error\n",
      "      NoSectionError\n",
      "      DuplicateSectionError\n",
      "      DuplicateOptionError\n",
      "      NoOptionError\n",
      "      InterpolationError\n",
      "        InterpolationMissingOptionError\n",
      "        InterpolationSyntaxError\n",
      "        InterpolationDepthError\n",
      "      ParsingError\n",
      "        MissingSectionHeaderError\n",
      "    BadEntryPoint\n",
      "    NoSuchEntryPoint\n",
      "    DuplicateKernelError\n",
      "    ErrorDuringImport\n",
      "    NotOneValueFound\n",
      "    CannotEval\n",
      "    OptionError\n",
      "    BdbQuit\n",
      "    Restart\n",
      "    FindCmdError\n",
      "    HomeDirError\n",
      "    ProfileDirError\n",
      "    IPythonCoreError\n",
      "      TryNext\n",
      "      UsageError\n",
      "      StdinNotImplementedError\n",
      "    InputRejected\n",
      "    GetoptError\n",
      "    ErrorToken\n",
      "    PrefilterError\n",
      "    AliasError\n",
      "      InvalidAliasError\n",
      "    Error\n",
      "      InterfaceError\n",
      "      DatabaseError\n",
      "        InternalError\n",
      "        OperationalError\n",
      "        ProgrammingError\n",
      "        IntegrityError\n",
      "        DataError\n",
      "        NotSupportedError\n",
      "    Warning\n",
      "    SpaceInInput\n",
      "    DOMException\n",
      "      IndexSizeErr\n",
      "      DomstringSizeErr\n",
      "      HierarchyRequestErr\n",
      "      WrongDocumentErr\n",
      "      InvalidCharacterErr\n",
      "      NoDataAllowedErr\n",
      "      NoModificationAllowedErr\n",
      "      NotFoundErr\n",
      "      NotSupportedErr\n",
      "      InuseAttributeErr\n",
      "      InvalidStateErr\n",
      "      SyntaxErr\n",
      "      InvalidModificationErr\n",
      "      NamespaceErr\n",
      "      InvalidAccessErr\n",
      "      ValidationErr\n",
      "    ValidationError\n",
      "    EditReadOnlyBuffer\n",
      "    _Retry\n",
      "    InvalidLayoutError\n",
      "    HeightIsUnknownError\n",
      "    GuardRejection\n",
      "    ParserSyntaxError\n",
      "    InternalParseError\n",
      "    _PositionUpdatingFinished\n",
      "    SimpleGetItemNotFound\n",
      "    UncaughtAttributeError\n",
      "    HasNoContext\n",
      "    ParamIssue\n",
      "    _JediError\n",
      "      InternalError\n",
      "      WrongVersion\n",
      "      RefactoringError\n",
      "    OnErrorLeaf\n",
      "    InvalidPythonEnvironment\n",
      "    MessageError\n",
      "      MessageParseError\n",
      "        HeaderParseError\n",
      "        BoundaryError\n",
      "      MultipartConversionError\n",
      "      CharsetError\n",
      "    Error\n",
      "    HTTPException\n",
      "      NotConnected\n",
      "      InvalidURL\n",
      "      UnknownProtocol\n",
      "      UnknownTransferEncoding\n",
      "      UnimplementedFileMode\n",
      "      IncompleteRead\n",
      "      ImproperConnectionState\n",
      "        CannotSendRequest\n",
      "        CannotSendHeader\n",
      "        ResponseNotReady\n",
      "      BadStatusLine\n",
      "        RemoteDisconnected\n",
      "      LineTooLong\n",
      "    InteractivelyDefined\n",
      "    KillEmbedded\n",
      "    Error\n",
      "      NoSuchProcess\n",
      "        ZombieProcess\n",
      "      AccessDenied\n",
      "      TimeoutExpired\n",
      "    Error\n",
      "    TimeoutExpired\n",
      "    TimeoutAbandoned\n",
      "    QueueEmpty\n",
      "    QueueFull\n",
      "    ExpatError\n",
      "    Error\n",
      "      ProtocolError\n",
      "      ResponseError\n",
      "      Fault\n",
      "    error\n",
      "    com_error\n",
      "    internal_error\n",
      "    ParseBaseException\n",
      "      ParseException\n",
      "      ParseFatalException\n",
      "        ParseSyntaxException\n",
      "    RecursiveGrammarException\n",
      "    ResolutionError\n",
      "      VersionConflict\n",
      "        ContextualVersionConflict\n",
      "      DistributionNotFound\n",
      "      UnknownExtra\n",
      "    UnableToResolveVariableException\n",
      "    InvalidTypeInArgsException\n",
      "  GeneratorExit\n",
      "  SystemExit\n",
      "  KeyboardInterrupt\n",
      "  CancelledError\n",
      "  DebuggerInitializationError\n",
      "  AbortThread\n"
     ]
    }
   ],
   "source": [
    "def print_exception_hierarchy(exception_class, indent=0):\n",
    "    print(' ' * indent + exception_class.__name__)\n",
    "    for subclass in exception_class.__subclasses__():\n",
    "        print_exception_hierarchy(subclass, indent + 2)\n",
    "\n",
    "# Print the exception hierarchy starting from BaseException\n",
    "print_exception_hierarchy(BaseException)\n",
    "\n"
   ]
  },
  {
   "cell_type": "markdown",
   "id": "f72364db-1dc2-44f8-8402-438c965a1a3d",
   "metadata": {},
   "source": [
    "In this example, CustomError is a custom exception class that inherits from Exception. It has an __init__ method to initialize the exception with a message. When the exception is raised and caught in the try-except block, it behaves like any other exception, providing information about the error, including the custom message."
   ]
  },
  {
   "cell_type": "markdown",
   "id": "602c013f-bafc-458a-9523-956c625d3e52",
   "metadata": {},
   "source": [
    "## Q3. What errors are defined in the ArithmeticError class? Explain any two with an example."
   ]
  },
  {
   "cell_type": "markdown",
   "id": "d5e74ef0-b0dc-4619-aba4-64d35fdeb27d",
   "metadata": {},
   "source": [
    "Ans: The ArithmeticError class in Python represents errors that can occur during arithmetic operations. It is a base class for various arithmetic-related exception classes. Two commonly encountered exceptions derived from ArithmeticError are ZeroDivisionError and OverflowError. Let's explore these two exceptions with examples:"
   ]
  },
  {
   "cell_type": "markdown",
   "id": "a32ed0e9-3a7c-48f5-ae32-cedcab711ae0",
   "metadata": {},
   "source": [
    "ZeroDivisionError:\n",
    "\n",
    "This exception is raised when attempting to divide a number by zero.\n",
    "\n",
    "In this example, the code attempts to divide 10 by 0, which is not allowed in mathematics. As a result, a ZeroDivisionError is raised, and the code in the except block is executed, printing an error message."
   ]
  },
  {
   "cell_type": "code",
   "execution_count": 3,
   "id": "6650bcf4-bcec-4693-9e84-cc544f320099",
   "metadata": {},
   "outputs": [
    {
     "name": "stdout",
     "output_type": "stream",
     "text": [
      "Error: division by zero\n"
     ]
    }
   ],
   "source": [
    "try:\n",
    "    result = 10 / 0  # This will raise ZeroDivisionError\n",
    "except ZeroDivisionError as e:\n",
    "    print(f\"Error: {e}\")"
   ]
  },
  {
   "cell_type": "markdown",
   "id": "e84f42fb-5d84-4771-bbab-5b300ac64145",
   "metadata": {},
   "source": [
    "OverflowError:\n",
    "\n",
    "This exception is raised when the result of an arithmetic operation exceeds the representational limits of the data type.\n",
    "\n",
    "In this example, the code attempts to calculate the result of adding 1 to the maximum representable integer value on the system (given by sys.maxsize). If this exceeds the maximum limit, an OverflowError is raised, and the code in the except block is executed."
   ]
  },
  {
   "cell_type": "code",
   "execution_count": 4,
   "id": "70c8d287-d166-41b5-b755-ebe6a5764c33",
   "metadata": {},
   "outputs": [],
   "source": [
    "import sys\n",
    "\n",
    "try:\n",
    "    result = sys.maxsize + 1  # This will raise OverflowError on some systems\n",
    "except OverflowError as e:\n",
    "    print(f\"Error: {e}\")"
   ]
  },
  {
   "cell_type": "markdown",
   "id": "1a675ac4-38e9-4d92-954f-27dc39ba5ae7",
   "metadata": {},
   "source": [
    "## Q4. Why LookupError class is used? Explain with an example KeyError and IndexError."
   ]
  },
  {
   "cell_type": "markdown",
   "id": "ce978e44-d2f2-47fc-9530-1468189a9557",
   "metadata": {},
   "source": [
    "The LookupError class in Python is a base class for exceptions that occur when a key or index used to look up a value in a sequence or mapping is not found. LookupError itself is not meant to be instantiated directly but serves as a base class for more specific lookup-related exceptions.\n",
    "\n",
    "Two common exceptions derived from LookupError are KeyError and IndexError. Let's explore these exceptions with examples:"
   ]
  },
  {
   "cell_type": "markdown",
   "id": "0d9dde7a-9f03-4932-aa6f-adaea743ce0b",
   "metadata": {},
   "source": [
    "KeyError: KeyError is raised when trying to access a dictionary with a key that does not exist.\n",
    "\n",
    "In this example, the dictionary my_dict does not have a key 'x', so attempting to access my_dict['x'] results in a KeyError. The code in the except block is executed, printing an error message."
   ]
  },
  {
   "cell_type": "code",
   "execution_count": 5,
   "id": "e22942f8-cee0-4729-b0c5-351d8efc0966",
   "metadata": {},
   "outputs": [
    {
     "name": "stdout",
     "output_type": "stream",
     "text": [
      "Error: 'x'\n"
     ]
    }
   ],
   "source": [
    "my_dict = {'a': 1, 'b': 2, 'c': 3}\n",
    "\n",
    "try:\n",
    "    value = my_dict['x']  # This will raise KeyError\n",
    "except KeyError as e:\n",
    "    print(f\"Error: {e}\")"
   ]
  },
  {
   "cell_type": "markdown",
   "id": "95a90cf5-c407-4522-9f69-5e8f0cc33a0e",
   "metadata": {},
   "source": [
    "IndexError: IndexError is raised when trying to access a sequence (like a list or tuple) with an index that is out of range.\n",
    "\n",
    "In this example, the list my_list has only elements at indices 0 through 4. Attempting to access my_list[10] (which is beyond the range of valid indices) results in an IndexError. The code in the except block is executed, printing an error message."
   ]
  },
  {
   "cell_type": "code",
   "execution_count": 6,
   "id": "243248e4-a466-479f-b16b-349952caf0d1",
   "metadata": {},
   "outputs": [
    {
     "name": "stdout",
     "output_type": "stream",
     "text": [
      "Error: list index out of range\n"
     ]
    }
   ],
   "source": [
    "my_list = [1, 2, 3, 4, 5]\n",
    "\n",
    "try:\n",
    "    element = my_list[10]  # This will raise IndexError\n",
    "except IndexError as e:\n",
    "    print(f\"Error: {e}\")"
   ]
  },
  {
   "cell_type": "markdown",
   "id": "9d58535e-79d3-4347-98a3-ceafd90961b9",
   "metadata": {},
   "source": [
    "## Q5. Explain ImportError. What is ModuleNotFoundError?"
   ]
  },
  {
   "cell_type": "markdown",
   "id": "d68195d6-8c4a-4ae3-a539-3150e738ebbc",
   "metadata": {},
   "source": [
    "ImportError is a built-in exception in Python that is raised when an import statement fails to locate and import a module or when there is an issue with the imported module. This exception is part of the broader exception hierarchy in Python and serves as a base class for various import-related exceptions.\n",
    "\n",
    "One specific exception that is a subclass of ImportError is ModuleNotFoundError. This exception is raised when Python cannot find the module specified in the import statement."
   ]
  },
  {
   "cell_type": "markdown",
   "id": "6f4acabe-de06-4a08-a7fd-368894032f05",
   "metadata": {},
   "source": [
    "ImportError: ImportError is raised when there is an issue with the import statement, such as when the specified module cannot be found, or there are errors in the module being imported.\n",
    "\n",
    "In this example, the code attempts to import a module named non_existent_module, which does not exist. As a result, an ImportError is raised, and the code in the except block is executed, printing an error message."
   ]
  },
  {
   "cell_type": "code",
   "execution_count": 7,
   "id": "6cb6a7d6-9d6e-4431-8fd4-09a52ce955bb",
   "metadata": {},
   "outputs": [
    {
     "name": "stdout",
     "output_type": "stream",
     "text": [
      "Error: No module named 'non_existent_module'\n"
     ]
    }
   ],
   "source": [
    "try:\n",
    "    import non_existent_module  # This will raise ImportError\n",
    "except ImportError as e:\n",
    "    print(f\"Error: {e}\")"
   ]
  },
  {
   "cell_type": "markdown",
   "id": "3a2ad6df-9496-435a-8cff-2c1f8e7bc5d5",
   "metadata": {},
   "source": [
    "ModuleNotFoundError: ModuleNotFoundError is a more specific exception derived from ImportError. It is raised specifically when the requested module cannot be found.\n",
    "\n",
    "In this example, the code is the same as in the previous example, but the except block catches the more specific ModuleNotFoundError instead of the more general ImportError. This allows you to handle the case where the module is not found more explicitly."
   ]
  },
  {
   "cell_type": "code",
   "execution_count": 8,
   "id": "a1a6e657-e9d0-440a-aa76-538120777075",
   "metadata": {},
   "outputs": [
    {
     "name": "stdout",
     "output_type": "stream",
     "text": [
      "Error: No module named 'non_existent_module'\n"
     ]
    }
   ],
   "source": [
    "try:\n",
    "    import non_existent_module  # This will raise ModuleNotFoundError\n",
    "except ModuleNotFoundError as e:\n",
    "    print(f\"Error: {e}\")"
   ]
  },
  {
   "cell_type": "markdown",
   "id": "e7d45a01-2283-4dfc-810f-0337df4e83ef",
   "metadata": {},
   "source": [
    "## Q6. List down some best practices for exception handling in python."
   ]
  },
  {
   "cell_type": "markdown",
   "id": "5b97bb9f-e639-44c8-b393-f2931b434643",
   "metadata": {},
   "source": [
    "Exception handling is an essential aspect of writing robust and maintainable Python code. Here are some best practices for effective exception handling in Python:\n",
    "\n",
    "1. Use Specific Exceptions\n",
    "2. Keep the Try Block Minimal\n",
    "3. Use Multiple Except Blocks\n",
    "4. Handle Exceptions Locally\n",
    "5. Log Exceptions\n",
    "6. Clean Up with Finally\n",
    "7. Custom Exceptions\n"
   ]
  },
  {
   "cell_type": "code",
   "execution_count": null,
   "id": "a0d09f43-2501-4075-8a5c-590187662811",
   "metadata": {},
   "outputs": [],
   "source": []
  }
 ],
 "metadata": {
  "kernelspec": {
   "display_name": "Python 3 (ipykernel)",
   "language": "python",
   "name": "python3"
  },
  "language_info": {
   "codemirror_mode": {
    "name": "ipython",
    "version": 3
   },
   "file_extension": ".py",
   "mimetype": "text/x-python",
   "name": "python",
   "nbconvert_exporter": "python",
   "pygments_lexer": "ipython3",
   "version": "3.10.9"
  }
 },
 "nbformat": 4,
 "nbformat_minor": 5
}
