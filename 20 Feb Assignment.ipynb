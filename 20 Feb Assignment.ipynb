{
 "cells": [
  {
   "cell_type": "markdown",
   "id": "fbff89bc-b1cc-4e83-a408-4e25a1ca173a",
   "metadata": {},
   "source": [
    "### Q1. Explain GET and POST methods."
   ]
  },
  {
   "cell_type": "markdown",
   "id": "a2702ca0-6673-4fc3-9f6c-9dee2c54c6c6",
   "metadata": {},
   "source": [
    "Ans: GET and POST are two HTTP requests which are used to send data to the server.\n",
    "\n",
    "GET: This methood is used to retrive data from the server.When a user submits a GET request, the data is sent as a query string in the URL. This method is typically used for fetching data from the server such as web pages, images, and other resources.\n",
    "\n",
    "POST: This method is used to send data to the server in a form format.The data sent through URL is not visible.This method is typically used for creating or updating data on the server such as submitting a form or adding a new record to a database."
   ]
  },
  {
   "cell_type": "markdown",
   "id": "3528e424-9a66-46a3-84f5-c27bd4001b7d",
   "metadata": {},
   "source": [
    "### Q2. Why is request used in Flask?"
   ]
  },
  {
   "cell_type": "markdown",
   "id": "9017f30c-65fb-4c45-99f4-154c1b3c5138",
   "metadata": {},
   "source": [
    "Ans: The request object is an essential part of Flask that provides access to incoming request data in Flask applications. It is used to access the data submitted in an HTTP request, such as form data, query parameters, and JSON payloads. The request object is an instance of the Request class.\n",
    "In Flask, when a user submits a request to the server, the data is sent along with the request. The request object provides a way to access this data and use it to process the request. For example, in a form submission, the request object can be used to access the form data and validate it before saving it to a database."
   ]
  },
  {
   "cell_type": "markdown",
   "id": "a3eb2ae2-2eaa-4470-b7ce-44b62e7a6cde",
   "metadata": {},
   "source": [
    "### Q3. Why is redirect() used in Flask?\n"
   ]
  },
  {
   "cell_type": "markdown",
   "id": "729e642d-21bd-4bb0-8d9d-3d4124dc42e4",
   "metadata": {},
   "source": [
    "Ans: The redirect() function is used in Flask to redirect the user to a different URL. It is a convenient way to handle HTTP redirects in web applications.\n",
    "\n",
    "When a user clicks a link or submits a form, the web application may need to redirect the user to a different page. This is where the redirect() function comes in handy. Instead of returning a normal response, the redirect() function returns a special response object that instructs the user's web browser to redirect to a different URL."
   ]
  },
  {
   "cell_type": "markdown",
   "id": "061271da-de78-4ec4-ab0b-13ae413f6666",
   "metadata": {},
   "source": [
    "### Q4. What are templates in Flask? Why is the render_template() function used?"
   ]
  },
  {
   "cell_type": "markdown",
   "id": "054ab1b3-bd10-44a7-b501-ef71436e60b5",
   "metadata": {},
   "source": [
    "Ans: Templates are a crucial component of Flask applications. They are used to define the structure and layout of the HTML pages that are served to users. Templates allow developers to separate the presentation layer from the application logic, making it easier to maintain and update the application.\n",
    "The render_template() function is used in Flask to render templates and generate HTML pages dynamically. It takes the name of the template as its first argument and any additional arguments as key-value pairs that will be passed to the template."
   ]
  },
  {
   "cell_type": "markdown",
   "id": "328fe6c7-f6c0-4bb6-8d27-a4244bfeca86",
   "metadata": {},
   "source": [
    "### Q5. Create a simple API. Use Postman to test it. Attach the screenshot of the output in the Jupyter Notebook."
   ]
  },
  {
   "cell_type": "markdown",
   "id": "72c7ae3e-2d26-4a0c-b686-eb64302f629b",
   "metadata": {},
   "source": [
    "Ans: "
   ]
  }
 ],
 "metadata": {
  "kernelspec": {
   "display_name": "Python 3 (ipykernel)",
   "language": "python",
   "name": "python3"
  },
  "language_info": {
   "codemirror_mode": {
    "name": "ipython",
    "version": 3
   },
   "file_extension": ".py",
   "mimetype": "text/x-python",
   "name": "python",
   "nbconvert_exporter": "python",
   "pygments_lexer": "ipython3",
   "version": "3.10.8"
  }
 },
 "nbformat": 4,
 "nbformat_minor": 5
}
