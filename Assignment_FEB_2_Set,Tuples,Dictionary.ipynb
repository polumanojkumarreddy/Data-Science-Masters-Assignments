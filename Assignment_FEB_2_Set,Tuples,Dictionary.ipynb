{
 "cells": [
  {
   "cell_type": "markdown",
   "id": "92c2d537-e289-49c8-9a9b-29ae3da8a778",
   "metadata": {},
   "source": [
    "### Q1. What are the characteristics of the tuples? Is tuple immutable?\n",
    "Ans 1. Tuples are ordered ,indexed, immutable and can contain duplicate elements."
   ]
  },
  {
   "cell_type": "markdown",
   "id": "6e0c197a-0560-4220-8b20-8ed68c2f9871",
   "metadata": {
    "jp-MarkdownHeadingCollapsed": true,
    "tags": []
   },
   "source": [
    "### Q2 What are the two tuple methods in python? Give an example of each method. Give a reason why\n",
    "### tuples have only two in-built methods as compared to Lists.\n",
    "Ans: count() and index() are the two tuple methods\n",
    "    The key difference between list and tuple is tuples are immutable objects and listd are mutable.\n",
    "    Tuples are more memory efficient than lists"
   ]
  },
  {
   "cell_type": "markdown",
   "id": "33b4bc3d-2776-49ed-abd4-b43f3073af56",
   "metadata": {},
   "source": [
    "### Q3 Which collection datatypes in python do not allow duplicate items? Write a code using a set to remove\n",
    "### duplicates from the given list.\n",
    "Ans Set and Dictionary do not allow duplicate items."
   ]
  },
  {
   "cell_type": "code",
   "execution_count": 2,
   "id": "c0b2274b-8a5c-407a-93ac-8730362564ce",
   "metadata": {},
   "outputs": [
    {
     "data": {
      "text/plain": [
       "{1, 2, 3, 4}"
      ]
     },
     "execution_count": 2,
     "metadata": {},
     "output_type": "execute_result"
    }
   ],
   "source": [
    "## problem\n",
    "\n",
    "List = [1, 1, 1, 2, 1, 3, 1, 4, 2, 1, 2, 2, 2, 3, 2, 4, 3, 1, 3, 2, 3, 3, 3, 4, 4, 1, 4, 2, 4, 3, 4, 4]\n",
    "s=set(List)\n",
    "s.update"
   ]
  },
  {
   "cell_type": "markdown",
   "id": "d5c14e67-df36-4b31-99d8-09d1511c0bbf",
   "metadata": {},
   "source": [
    "### Q4 Explain the difference between the union() and update() methods for a set. Give an example of\n",
    "### each method.\n",
    "Ans: union() returns the union of sets as a new set and\n",
    "     update() it updates a set with union of sets."
   ]
  },
  {
   "cell_type": "code",
   "execution_count": 10,
   "id": "ff56dd25-0367-4f2a-a615-6e53a9d6ef0e",
   "metadata": {},
   "outputs": [
    {
     "data": {
      "text/plain": [
       "{1, 2, 3, 4, 5, 6, 7, 8}"
      ]
     },
     "execution_count": 10,
     "metadata": {},
     "output_type": "execute_result"
    }
   ],
   "source": [
    "s1={1,2,3,4}\n",
    "s2={5,6,7,8}\n",
    "## union method\n",
    "s3=s1.union(s2)\n",
    "s3"
   ]
  },
  {
   "cell_type": "code",
   "execution_count": 11,
   "id": "ed3848e5-ad68-4118-9d99-c41f0ebdc4d1",
   "metadata": {},
   "outputs": [
    {
     "name": "stdout",
     "output_type": "stream",
     "text": [
      "{1, 2, 3, 4, 5, 6, 7, 8}\n"
     ]
    }
   ],
   "source": [
    "## update method\n",
    "s2.update(s1)\n",
    "print(s2)"
   ]
  },
  {
   "cell_type": "markdown",
   "id": "d7954661-f02a-4553-9650-5c589c3e63c9",
   "metadata": {},
   "source": [
    "### Q5. What is a dictionary? Give an example. Also, state whether a dictionary is ordered or unordered.\n",
    "Ans: Dictionary is a data type in python which is used to store data in key value-pairs.In Dictionary no duplicate key value pairs are allowed,dictionary is mutable in python.Dictionary is ordered in python. "
   ]
  },
  {
   "cell_type": "code",
   "execution_count": 1,
   "id": "73bbf46d-b251-4024-9a01-f73feeee5113",
   "metadata": {},
   "outputs": [
    {
     "data": {
      "text/plain": [
       "{'name': ['Manoj', 'Shravan', 'Vishwanath'], 'Roll no': [44, 33, 15]}"
      ]
     },
     "execution_count": 1,
     "metadata": {},
     "output_type": "execute_result"
    }
   ],
   "source": [
    "## dictionary Example\n",
    "\n",
    "d={'name':[\"Manoj\",\"Shravan\",\"Vishwanath\"],\"Roll no\":[44,33,15]}\n",
    "d"
   ]
  },
  {
   "cell_type": "markdown",
   "id": "22230f59-5094-4469-a93a-e03f9a113d2a",
   "metadata": {},
   "source": [
    "### Q6. Can we create a nested dictionary? If so, please give an example by creating a simple one-level\n",
    "### nested dictionary.\n",
    "Ans: Yes we can create a nested library."
   ]
  },
  {
   "cell_type": "code",
   "execution_count": 2,
   "id": "245a4750-4b3b-4015-95d2-66c0b8bf6d0b",
   "metadata": {},
   "outputs": [],
   "source": [
    "d1={\"Student1\":{\"name\":\"Manoj\",\"Roll no\":44,\"Dept\":\"Computer Science Engineering\"},\"Student2\":{\"name\":\"Vishwanath\",\"Roll no\":15,\"Dept\":\"Computer Science Engineering\"},\"Student3\":{\"name\":\"Shravan\",\"Roll no\":33,\"Dept\":\"Computer Science Engineering\"}}"
   ]
  },
  {
   "cell_type": "code",
   "execution_count": 4,
   "id": "466d510d-0abc-459c-809c-04ba7644777b",
   "metadata": {},
   "outputs": [
    {
     "ename": "NameError",
     "evalue": "name 'd1' is not defined",
     "output_type": "error",
     "traceback": [
      "\u001b[0;31m---------------------------------------------------------------------------\u001b[0m",
      "\u001b[0;31mNameError\u001b[0m                                 Traceback (most recent call last)",
      "Cell \u001b[0;32mIn[4], line 1\u001b[0m\n\u001b[0;32m----> 1\u001b[0m \u001b[43md1\u001b[49m\n",
      "\u001b[0;31mNameError\u001b[0m: name 'd1' is not defined"
     ]
    }
   ],
   "source": [
    "d1"
   ]
  },
  {
   "cell_type": "markdown",
   "id": "73d1b919-bc03-4912-8bfe-c896ecd92126",
   "metadata": {},
   "source": [
    "### Q8. What are the three view objects in dictionaries? Use the three in-built methods in python to display\n",
    "### these three view objects for the given dictionary.\n",
    "Ans: key,values and items are the three view objects in python."
   ]
  },
  {
   "cell_type": "code",
   "execution_count": 5,
   "id": "2285b6f8-22bf-45cb-a430-d325396d4b41",
   "metadata": {},
   "outputs": [
    {
     "ename": "NameError",
     "evalue": "name 'd1' is not defined",
     "output_type": "error",
     "traceback": [
      "\u001b[0;31m---------------------------------------------------------------------------\u001b[0m",
      "\u001b[0;31mNameError\u001b[0m                                 Traceback (most recent call last)",
      "Cell \u001b[0;32mIn[5], line 3\u001b[0m\n\u001b[1;32m      1\u001b[0m \u001b[38;5;66;03m## Example\u001b[39;00m\n\u001b[0;32m----> 3\u001b[0m \u001b[43md1\u001b[49m\n",
      "\u001b[0;31mNameError\u001b[0m: name 'd1' is not defined"
     ]
    }
   ],
   "source": [
    "## Example\n",
    "\n",
    "d1"
   ]
  },
  {
   "cell_type": "code",
   "execution_count": null,
   "id": "fd10c8d3-4b19-41fc-a3b1-8a68c532f069",
   "metadata": {},
   "outputs": [],
   "source": []
  }
 ],
 "metadata": {
  "kernelspec": {
   "display_name": "Python 3 (ipykernel)",
   "language": "python",
   "name": "python3"
  },
  "language_info": {
   "codemirror_mode": {
    "name": "ipython",
    "version": 3
   },
   "file_extension": ".py",
   "mimetype": "text/x-python",
   "name": "python",
   "nbconvert_exporter": "python",
   "pygments_lexer": "ipython3",
   "version": "3.10.8"
  }
 },
 "nbformat": 4,
 "nbformat_minor": 5
}
