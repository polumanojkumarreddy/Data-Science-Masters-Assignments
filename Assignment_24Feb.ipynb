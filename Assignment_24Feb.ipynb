{
 "cells": [
  {
   "cell_type": "markdown",
   "id": "10c724bb-c507-43b8-b674-dc76d820a695",
   "metadata": {},
   "source": [
    "## Q1. List any five functions of the pandas library with execution."
   ]
  },
  {
   "cell_type": "markdown",
   "id": "667e360b-b257-4401-8339-73de8c6b8f69",
   "metadata": {},
   "source": [
    "##  Ans: Here are the five functions used with pandas"
   ]
  },
  {
   "cell_type": "code",
   "execution_count": 1,
   "id": "6b6ef6cd-08fd-4b3d-acfc-4ef079e902bc",
   "metadata": {},
   "outputs": [],
   "source": [
    "import pandas as pd"
   ]
  },
  {
   "cell_type": "code",
   "execution_count": 6,
   "id": "15ab1ae1-b5e0-4994-8897-df809c865102",
   "metadata": {},
   "outputs": [
    {
     "name": "stdout",
     "output_type": "stream",
     "text": [
      "<class 'pandas.core.frame.DataFrame'>\n",
      "RangeIndex: 675 entries, 0 to 674\n",
      "Data columns (total 31 columns):\n",
      " #   Column      Non-Null Count  Dtype \n",
      "---  ------      --------------  ----- \n",
      " 0   Unnamed: 0  675 non-null    int64 \n",
      " 1   Rk          675 non-null    object\n",
      " 2   Player      675 non-null    object\n",
      " 3   Pos         675 non-null    object\n",
      " 4   Age         675 non-null    object\n",
      " 5   Tm          675 non-null    object\n",
      " 6   G           675 non-null    object\n",
      " 7   GS          675 non-null    object\n",
      " 8   MP          675 non-null    object\n",
      " 9   FG          675 non-null    object\n",
      " 10  FGA         675 non-null    object\n",
      " 11  FG%         673 non-null    object\n",
      " 12  3P          675 non-null    object\n",
      " 13  3PA         675 non-null    object\n",
      " 14  3P%         594 non-null    object\n",
      " 15  2P          675 non-null    object\n",
      " 16  2PA         675 non-null    object\n",
      " 17  2P%         671 non-null    object\n",
      " 18  eFG%        673 non-null    object\n",
      " 19  FT          675 non-null    object\n",
      " 20  FTA         675 non-null    object\n",
      " 21  FT%         650 non-null    object\n",
      " 22  ORB         675 non-null    object\n",
      " 23  DRB         675 non-null    object\n",
      " 24  TRB         675 non-null    object\n",
      " 25  AST         675 non-null    object\n",
      " 26  STL         675 non-null    object\n",
      " 27  BLK         675 non-null    object\n",
      " 28  TOV         675 non-null    object\n",
      " 29  PF          675 non-null    object\n",
      " 30  PTS         675 non-null    object\n",
      "dtypes: int64(1), object(30)\n",
      "memory usage: 163.6+ KB\n"
     ]
    },
    {
     "data": {
      "text/plain": [
       "<pandas.core.groupby.generic.DataFrameGroupBy object at 0x00000229C0502AD0>"
      ]
     },
     "execution_count": 6,
     "metadata": {},
     "output_type": "execute_result"
    }
   ],
   "source": [
    "# 1. read_csv()\n",
    "df = pd.read_csv(\"players.csv\")\n",
    "\n",
    "# 2. head()\n",
    "df.head()\n",
    "\n",
    "# 3. tail()\n",
    "df.tail()\n",
    "\n",
    "#4. info()\n",
    "df.info()\n",
    "\n",
    "# 5. groupby()\n",
    "df.groupby(\"Age\")"
   ]
  },
  {
   "cell_type": "markdown",
   "id": "6cc48a2a-b08c-46ed-b3b0-4ae388130612",
   "metadata": {},
   "source": [
    "## Q2. Given a Pandas DataFrame df with columns 'A', 'B', and 'C', write a Python function to re-index theDataFrame with a new index that starts from 1 and increments by 2 for each row."
   ]
  },
  {
   "cell_type": "code",
   "execution_count": 8,
   "id": "12a2f2ab-a7ac-4b9d-9a67-98bcbabfb22a",
   "metadata": {},
   "outputs": [
    {
     "data": {
      "text/html": [
       "<div>\n",
       "<style scoped>\n",
       "    .dataframe tbody tr th:only-of-type {\n",
       "        vertical-align: middle;\n",
       "    }\n",
       "\n",
       "    .dataframe tbody tr th {\n",
       "        vertical-align: top;\n",
       "    }\n",
       "\n",
       "    .dataframe thead th {\n",
       "        text-align: right;\n",
       "    }\n",
       "</style>\n",
       "<table border=\"1\" class=\"dataframe\">\n",
       "  <thead>\n",
       "    <tr style=\"text-align: right;\">\n",
       "      <th></th>\n",
       "      <th>A</th>\n",
       "      <th>B</th>\n",
       "      <th>C</th>\n",
       "    </tr>\n",
       "  </thead>\n",
       "  <tbody>\n",
       "    <tr>\n",
       "      <th>1</th>\n",
       "      <td>10</td>\n",
       "      <td>40</td>\n",
       "      <td>70</td>\n",
       "    </tr>\n",
       "    <tr>\n",
       "      <th>3</th>\n",
       "      <td>20</td>\n",
       "      <td>50</td>\n",
       "      <td>80</td>\n",
       "    </tr>\n",
       "    <tr>\n",
       "      <th>5</th>\n",
       "      <td>30</td>\n",
       "      <td>60</td>\n",
       "      <td>90</td>\n",
       "    </tr>\n",
       "  </tbody>\n",
       "</table>\n",
       "</div>"
      ],
      "text/plain": [
       "    A   B   C\n",
       "1  10  40  70\n",
       "3  20  50  80\n",
       "5  30  60  90"
      ]
     },
     "execution_count": 8,
     "metadata": {},
     "output_type": "execute_result"
    }
   ],
   "source": [
    "import pandas as pd\n",
    "\n",
    "def reindex_df(df):\n",
    "    new_index = range(1, len(df) * 2, 2)  # New index starting from 1, incrementing by 2\n",
    "    df.index = new_index\n",
    "    return df\n",
    "\n",
    "df = pd.DataFrame({'A': [10, 20, 30], 'B': [40, 50, 60], 'C': [70, 80, 90]})\n",
    "df_reindexed = reindex_df(df)\n",
    "df_reindexed"
   ]
  },
  {
   "cell_type": "markdown",
   "id": "0814a9fa-1a5c-4df9-a3b8-c8229d8a56a8",
   "metadata": {},
   "source": [
    "## Q3. You have a Pandas DataFrame df with a column named 'Values'. Write a Python function that iterates over the DataFrame and calculates the sum of the first three values in the 'Values' column. The function should print the sum to the console."
   ]
  },
  {
   "cell_type": "code",
   "execution_count": 18,
   "id": "d1bdb264-5130-44ed-ab8c-c702d2eceb31",
   "metadata": {},
   "outputs": [
    {
     "name": "stdout",
     "output_type": "stream",
     "text": [
      "6\n"
     ]
    }
   ],
   "source": [
    "\n",
    "def calc_sum(df):\n",
    "    sum = df[\"Values\"].head(3).sum()\n",
    "    return sum\n",
    "\n",
    "\n",
    "df = pd.DataFrame({\"Values\":[1,2,3,4,5,6,7]})\n",
    "print(calc_sum(df))"
   ]
  },
  {
   "cell_type": "markdown",
   "id": "be312e6f-ba9d-4c9a-8a37-0c448967e2db",
   "metadata": {},
   "source": [
    "## Q4. Given a Pandas DataFrame df with a column 'Text', write a Python function to create a new column 'Word_Count' that contains the number of words in each row of the 'Text' column."
   ]
  },
  {
   "cell_type": "code",
   "execution_count": 23,
   "id": "bc628948-435d-4593-9064-6d8fe933da05",
   "metadata": {},
   "outputs": [
    {
     "name": "stdout",
     "output_type": "stream",
     "text": [
      "                            Text  Word_count\n",
      "0               Hi, i am a nigga           5\n",
      "1        So you are also a nigga           6\n",
      "2  Therefore everyone is a nigga           5\n"
     ]
    },
    {
     "data": {
      "text/html": [
       "<div>\n",
       "<style scoped>\n",
       "    .dataframe tbody tr th:only-of-type {\n",
       "        vertical-align: middle;\n",
       "    }\n",
       "\n",
       "    .dataframe tbody tr th {\n",
       "        vertical-align: top;\n",
       "    }\n",
       "\n",
       "    .dataframe thead th {\n",
       "        text-align: right;\n",
       "    }\n",
       "</style>\n",
       "<table border=\"1\" class=\"dataframe\">\n",
       "  <thead>\n",
       "    <tr style=\"text-align: right;\">\n",
       "      <th></th>\n",
       "      <th>Text</th>\n",
       "      <th>Word_count</th>\n",
       "    </tr>\n",
       "  </thead>\n",
       "  <tbody>\n",
       "    <tr>\n",
       "      <th>0</th>\n",
       "      <td>Hi, i am a nigga</td>\n",
       "      <td>5</td>\n",
       "    </tr>\n",
       "    <tr>\n",
       "      <th>1</th>\n",
       "      <td>So you are also a nigga</td>\n",
       "      <td>6</td>\n",
       "    </tr>\n",
       "    <tr>\n",
       "      <th>2</th>\n",
       "      <td>Therefore everyone is a nigga</td>\n",
       "      <td>5</td>\n",
       "    </tr>\n",
       "  </tbody>\n",
       "</table>\n",
       "</div>"
      ],
      "text/plain": [
       "                            Text  Word_count\n",
       "0               Hi, i am a nigga           5\n",
       "1        So you are also a nigga           6\n",
       "2  Therefore everyone is a nigga           5"
      ]
     },
     "execution_count": 23,
     "metadata": {},
     "output_type": "execute_result"
    }
   ],
   "source": [
    "def wordcount(df):\n",
    "    df[\"Word_count\"] = df['Text'].apply(lambda x: len(str(x).split()))\n",
    "    return df\n",
    "\n",
    "data = {\"Text\":[\"Hi, i am a nigga\",\"So you are also a nigga\",\"Therefore everyone is a nigga\"]}\n",
    "df = pd.DataFrame(data)\n",
    "print(wordcount(df))\n",
    "df"
   ]
  },
  {
   "cell_type": "markdown",
   "id": "613bfa76-9315-4329-a844-1a14f6bf5827",
   "metadata": {},
   "source": [
    "## Q5. How are DataFrame.size() and DataFrame.shape() different?"
   ]
  },
  {
   "cell_type": "markdown",
   "id": "03591afc-4e28-49c9-ab49-76629334c3bb",
   "metadata": {},
   "source": [
    "### Ans: DataFrame.size(): Returns the number of elements in the DataFrame (rows * columns). \n",
    "### DataFrame.shape(): Returns a tuple representing the dimensions (rows, columns) of the DataFrame."
   ]
  },
  {
   "cell_type": "markdown",
   "id": "b0ab0b13-d129-4ec3-91d9-4b02d0e448dd",
   "metadata": {},
   "source": [
    "## Q6. Which function of pandas do we use to read an excel file?"
   ]
  },
  {
   "cell_type": "markdown",
   "id": "e27b89d7-b6d2-4a3d-97a4-9e2254fcb1e9",
   "metadata": {},
   "source": [
    "### we use pd.read_excel() to read a excel file"
   ]
  },
  {
   "cell_type": "code",
   "execution_count": 26,
   "id": "fe3e9245-f75c-46c1-b165-6ff5a01db435",
   "metadata": {},
   "outputs": [],
   "source": [
    "df = pd.read_excel('LUSID Excel - Setting up your market data (1).xlsx')"
   ]
  },
  {
   "cell_type": "markdown",
   "id": "25093301-988d-4a4d-ac08-160e857c4ca3",
   "metadata": {},
   "source": [
    "## Q7. You have a Pandas DataFrame df that contains a column named 'Email' that contains email addresses in the format 'username@domain.com'. Write a Python function that creates a new column 'Username' in df that contains only the username part of each email address. The username is the part of the email address that appears before the '@' symbol. \n",
    "## For example, if the email address is 'john.doe@example.com', the 'Username' column should contain 'john.doe'. Your function should extract the username from each email address and store it in the new 'Username' column."
   ]
  },
  {
   "cell_type": "code",
   "execution_count": 31,
   "id": "97fb5f7f-e527-40c3-8de7-caa4f616bb22",
   "metadata": {},
   "outputs": [
    {
     "data": {
      "text/html": [
       "<div>\n",
       "<style scoped>\n",
       "    .dataframe tbody tr th:only-of-type {\n",
       "        vertical-align: middle;\n",
       "    }\n",
       "\n",
       "    .dataframe tbody tr th {\n",
       "        vertical-align: top;\n",
       "    }\n",
       "\n",
       "    .dataframe thead th {\n",
       "        text-align: right;\n",
       "    }\n",
       "</style>\n",
       "<table border=\"1\" class=\"dataframe\">\n",
       "  <thead>\n",
       "    <tr style=\"text-align: right;\">\n",
       "      <th></th>\n",
       "      <th>e-Mail</th>\n",
       "      <th>Name</th>\n",
       "    </tr>\n",
       "  </thead>\n",
       "  <tbody>\n",
       "    <tr>\n",
       "      <th>0</th>\n",
       "      <td>manoj@gmail.com</td>\n",
       "      <td>manoj</td>\n",
       "    </tr>\n",
       "    <tr>\n",
       "      <th>1</th>\n",
       "      <td>Luffy@outlook.com</td>\n",
       "      <td>Luffy</td>\n",
       "    </tr>\n",
       "    <tr>\n",
       "      <th>2</th>\n",
       "      <td>Zoro@hotmail.com</td>\n",
       "      <td>Zoro</td>\n",
       "    </tr>\n",
       "  </tbody>\n",
       "</table>\n",
       "</div>"
      ],
      "text/plain": [
       "              e-Mail   Name\n",
       "0    manoj@gmail.com  manoj\n",
       "1  Luffy@outlook.com  Luffy\n",
       "2   Zoro@hotmail.com   Zoro"
      ]
     },
     "execution_count": 31,
     "metadata": {},
     "output_type": "execute_result"
    }
   ],
   "source": [
    "\n",
    "def extract_name(df):\n",
    "    df[\"Name\"] = df[\"e-Mail\"].apply(lambda x: x.split('@')[0])\n",
    "    return df\n",
    "\n",
    "data = {\"e-Mail\":[\"manoj@gmail.com\",\"Luffy@outlook.com\",\"Zoro@hotmail.com\"]}\n",
    "df = pd.DataFrame(data)\n",
    "extract_name(df)"
   ]
  },
  {
   "cell_type": "markdown",
   "id": "9f19d9bd-d96b-4567-8fdd-38770f11b9ca",
   "metadata": {},
   "source": [
    "## Q8. You have a Pandas DataFrame df with columns 'A', 'B', and 'C'. Write a Python function that selects all rows where the value in column 'A' is greater than 5 and the value in column 'B' is less than 10. The function should return a new DataFrame that contains only the selected rows. For example, if df contains the following values:\n",
    "## A B C\n",
    "## 0 3 5 1\n",
    "## 1 8 2 7\n",
    "## 2 6 9 4\n",
    "## 3 2 3 5\n",
    "## 4 9 1 2\n",
    "\n",
    "## Your function should select the following rows: A B C\n",
    "## 1 8 2 7\n",
    "## 4 9 1 2\n",
    "## The function should return a new DataFrame that contains only the selected rows."
   ]
  },
  {
   "cell_type": "code",
   "execution_count": 35,
   "id": "a1243d9e-c8bb-4502-a806-af4fa088fc87",
   "metadata": {},
   "outputs": [
    {
     "data": {
      "text/html": [
       "<div>\n",
       "<style scoped>\n",
       "    .dataframe tbody tr th:only-of-type {\n",
       "        vertical-align: middle;\n",
       "    }\n",
       "\n",
       "    .dataframe tbody tr th {\n",
       "        vertical-align: top;\n",
       "    }\n",
       "\n",
       "    .dataframe thead th {\n",
       "        text-align: right;\n",
       "    }\n",
       "</style>\n",
       "<table border=\"1\" class=\"dataframe\">\n",
       "  <thead>\n",
       "    <tr style=\"text-align: right;\">\n",
       "      <th></th>\n",
       "      <th>A</th>\n",
       "      <th>B</th>\n",
       "      <th>C</th>\n",
       "    </tr>\n",
       "  </thead>\n",
       "  <tbody>\n",
       "    <tr>\n",
       "      <th>1</th>\n",
       "      <td>8</td>\n",
       "      <td>2</td>\n",
       "      <td>7</td>\n",
       "    </tr>\n",
       "    <tr>\n",
       "      <th>2</th>\n",
       "      <td>6</td>\n",
       "      <td>9</td>\n",
       "      <td>4</td>\n",
       "    </tr>\n",
       "    <tr>\n",
       "      <th>4</th>\n",
       "      <td>9</td>\n",
       "      <td>1</td>\n",
       "      <td>2</td>\n",
       "    </tr>\n",
       "  </tbody>\n",
       "</table>\n",
       "</div>"
      ],
      "text/plain": [
       "   A  B  C\n",
       "1  8  2  7\n",
       "2  6  9  4\n",
       "4  9  1  2"
      ]
     },
     "execution_count": 35,
     "metadata": {},
     "output_type": "execute_result"
    }
   ],
   "source": [
    "def dataframe(df):\n",
    "    return df[(df[\"A\"]>5) & (df[\"B\"]<10)]\n",
    "\n",
    "data = {\"A\":[3,8,6,2,9],\"B\":[5,2,9,3,1],\"C\":[1,7,4,5,2]}\n",
    "df = pd.DataFrame(data)\n",
    "dataframe(df)"
   ]
  },
  {
   "cell_type": "markdown",
   "id": "0297b8e2-670e-41bb-b868-66a200992de2",
   "metadata": {},
   "source": [
    "## Q9. Given a Pandas DataFrame df with a column 'Values', write a Python function to calculate the mean, median, and standard deviation of the values in the 'Values' column."
   ]
  },
  {
   "cell_type": "code",
   "execution_count": 38,
   "id": "ac7cdacd-a4ae-467b-b975-108651221b99",
   "metadata": {},
   "outputs": [
    {
     "name": "stdout",
     "output_type": "stream",
     "text": [
      "Mean: 5.0, Median: 5.0, Standard Deviation: 2.7386127875258306\n"
     ]
    }
   ],
   "source": [
    "def func(df):\n",
    "    col_values = df[\"Values\"]\n",
    "    mean = col_values.mean()\n",
    "    median = col_values.median()\n",
    "    standard_deviation = col_values.std()\n",
    "    print(f\"Mean: {mean}, Median: {median}, Standard Deviation: {standard_deviation}\")\n",
    "    \n",
    "data = {\"Values\":[1,2,3,4,5,6,7,8,9]}\n",
    "df = pd.DataFrame(data)\n",
    "func(df)"
   ]
  },
  {
   "cell_type": "markdown",
   "id": "f0de9e85-a476-4e75-b20f-236be0e312b1",
   "metadata": {},
   "source": [
    "## Q10. Given a Pandas DataFrame df with a column 'Sales' and a column 'Date', write a Python function to create a new column 'MovingAverage' that contains the moving average of the sales for the past 7 days for each row in the DataFrame. The moving average should be calculated using a window of size 7 and should include the current day."
   ]
  },
  {
   "cell_type": "code",
   "execution_count": 39,
   "id": "815c926f-07ae-4eb2-aa84-168f1dab9f5f",
   "metadata": {},
   "outputs": [
    {
     "name": "stdout",
     "output_type": "stream",
     "text": [
      "        Date  Sales  MovingAverage\n",
      "0 2023-01-01    100     100.000000\n",
      "1 2023-01-02    150     125.000000\n",
      "2 2023-01-03    200     150.000000\n",
      "3 2023-01-04    180     157.500000\n",
      "4 2023-01-05    220     170.000000\n",
      "5 2023-01-06    250     183.333333\n",
      "6 2023-01-07    300     200.000000\n",
      "7 2023-01-08    280     225.714286\n",
      "8 2023-01-09    320     250.000000\n",
      "9 2023-01-10    350     271.428571\n"
     ]
    }
   ],
   "source": [
    "import pandas as pd\n",
    "\n",
    "def calculate_moving_average(df):\n",
    "    # Sort the DataFrame by the 'Date' column (if not already sorted)\n",
    "    df = df.sort_values(by='Date').reset_index(drop=True)\n",
    "    \n",
    "    # Calculate the moving average using a window of size 7\n",
    "    df['MovingAverage'] = df['Sales'].rolling(window=7, min_periods=1).mean()\n",
    "    \n",
    "    return df\n",
    "\n",
    "# Example usage:\n",
    "data = {\n",
    "    'Date': ['2023-01-01', '2023-01-02', '2023-01-03', '2023-01-04', '2023-01-05',\n",
    "             '2023-01-06', '2023-01-07', '2023-01-08', '2023-01-09', '2023-01-10'],\n",
    "    'Sales': [100, 150, 200, 180, 220, 250, 300, 280, 320, 350]\n",
    "}\n",
    "\n",
    "df = pd.DataFrame(data)\n",
    "df['Date'] = pd.to_datetime(df['Date'])  # Convert 'Date' column to datetime format\n",
    "\n",
    "# Calculate moving average and add it as a new column\n",
    "df_with_ma = calculate_moving_average(df)\n",
    "print(df_with_ma)\n"
   ]
  },
  {
   "cell_type": "markdown",
   "id": "1b027d3a-0ee5-491a-97cb-65b5b4229a11",
   "metadata": {},
   "source": [
    "## Q11. You have a Pandas DataFrame df with a column 'Date'. Write a Python function that creates a new column 'Weekday' in the DataFrame. The 'Weekday' column should contain the weekday name (e.g. Monday, Tuesday) corresponding to each date in the 'Date' column.\n",
    "## For example, if df contains the following values:\n",
    "## Date\n",
    "## 0 2023-01-01\n",
    "## 1 2023-01-02\n",
    "## 2 2023-01-03\n",
    "## 3 2023-01-04\n",
    "## 4 2023-01-05\n",
    "## Your function should create the following DataFrame:\n",
    "\n",
    "## Date Weekday\n",
    "## 0 2023-01-01 Sunday\n",
    "## 1 2023-01-02 Monday\n",
    "## 2 2023-01-03 Tuesday\n",
    "## 3 2023-01-04 Wednesday\n",
    "## 4 2023-01-05 Thursday\n",
    "# The function should return the modified DataFrame."
   ]
  },
  {
   "cell_type": "code",
   "execution_count": 43,
   "id": "bcdb73b9-b2aa-43bd-b793-dee01e06f90b",
   "metadata": {},
   "outputs": [
    {
     "name": "stdout",
     "output_type": "stream",
     "text": [
      "        Date   Weekday\n",
      "0 2001-12-15  Saturday\n",
      "1 2023-01-02    Monday\n",
      "2 2023-01-03   Tuesday\n"
     ]
    }
   ],
   "source": [
    "def add_weekday_column(df):\n",
    "    df['Weekday'] = df['Date'].dt.day_name()\n",
    "    return df\n",
    "\n",
    "# Usage:\n",
    "data = {'Date': ['2001-12-15', '2023-01-02', '2023-01-03']}\n",
    "df = pd.DataFrame(data)\n",
    "df['Date'] = pd.to_datetime(df['Date'])\n",
    "df_with_weekday = add_weekday_column(df)\n",
    "print(df_with_weekday)\n"
   ]
  },
  {
   "cell_type": "markdown",
   "id": "9f138ddb-e74c-4ba1-a8e9-1d45e9078495",
   "metadata": {},
   "source": [
    "## Q12. Given a Pandas DataFrame df with a column 'Date' that contains timestamps, write a Python function to select all rows where the date is between '2023-01-01' and '2023-01-31'."
   ]
  },
  {
   "cell_type": "code",
   "execution_count": 46,
   "id": "25ed5afb-ade9-4c03-a7f5-bdab88d09441",
   "metadata": {},
   "outputs": [
    {
     "data": {
      "text/html": [
       "<div>\n",
       "<style scoped>\n",
       "    .dataframe tbody tr th:only-of-type {\n",
       "        vertical-align: middle;\n",
       "    }\n",
       "\n",
       "    .dataframe tbody tr th {\n",
       "        vertical-align: top;\n",
       "    }\n",
       "\n",
       "    .dataframe thead th {\n",
       "        text-align: right;\n",
       "    }\n",
       "</style>\n",
       "<table border=\"1\" class=\"dataframe\">\n",
       "  <thead>\n",
       "    <tr style=\"text-align: right;\">\n",
       "      <th></th>\n",
       "      <th>Date</th>\n",
       "    </tr>\n",
       "  </thead>\n",
       "  <tbody>\n",
       "    <tr>\n",
       "      <th>0</th>\n",
       "      <td>2023-01-01</td>\n",
       "    </tr>\n",
       "    <tr>\n",
       "      <th>1</th>\n",
       "      <td>2023-01-02</td>\n",
       "    </tr>\n",
       "    <tr>\n",
       "      <th>2</th>\n",
       "      <td>2023-01-03</td>\n",
       "    </tr>\n",
       "    <tr>\n",
       "      <th>3</th>\n",
       "      <td>2023-01-04</td>\n",
       "    </tr>\n",
       "    <tr>\n",
       "      <th>4</th>\n",
       "      <td>2023-01-05</td>\n",
       "    </tr>\n",
       "    <tr>\n",
       "      <th>5</th>\n",
       "      <td>2023-01-06</td>\n",
       "    </tr>\n",
       "    <tr>\n",
       "      <th>6</th>\n",
       "      <td>2023-01-07</td>\n",
       "    </tr>\n",
       "    <tr>\n",
       "      <th>7</th>\n",
       "      <td>2023-01-08</td>\n",
       "    </tr>\n",
       "    <tr>\n",
       "      <th>8</th>\n",
       "      <td>2023-01-09</td>\n",
       "    </tr>\n",
       "    <tr>\n",
       "      <th>9</th>\n",
       "      <td>2023-01-10</td>\n",
       "    </tr>\n",
       "    <tr>\n",
       "      <th>10</th>\n",
       "      <td>2023-01-11</td>\n",
       "    </tr>\n",
       "    <tr>\n",
       "      <th>11</th>\n",
       "      <td>2023-01-12</td>\n",
       "    </tr>\n",
       "    <tr>\n",
       "      <th>12</th>\n",
       "      <td>2023-01-13</td>\n",
       "    </tr>\n",
       "    <tr>\n",
       "      <th>13</th>\n",
       "      <td>2023-01-14</td>\n",
       "    </tr>\n",
       "    <tr>\n",
       "      <th>14</th>\n",
       "      <td>2023-01-15</td>\n",
       "    </tr>\n",
       "    <tr>\n",
       "      <th>15</th>\n",
       "      <td>2023-01-16</td>\n",
       "    </tr>\n",
       "    <tr>\n",
       "      <th>16</th>\n",
       "      <td>2023-01-17</td>\n",
       "    </tr>\n",
       "    <tr>\n",
       "      <th>17</th>\n",
       "      <td>2023-01-18</td>\n",
       "    </tr>\n",
       "    <tr>\n",
       "      <th>18</th>\n",
       "      <td>2023-01-19</td>\n",
       "    </tr>\n",
       "    <tr>\n",
       "      <th>19</th>\n",
       "      <td>2023-01-20</td>\n",
       "    </tr>\n",
       "    <tr>\n",
       "      <th>20</th>\n",
       "      <td>2023-01-21</td>\n",
       "    </tr>\n",
       "    <tr>\n",
       "      <th>21</th>\n",
       "      <td>2023-01-22</td>\n",
       "    </tr>\n",
       "    <tr>\n",
       "      <th>22</th>\n",
       "      <td>2023-01-23</td>\n",
       "    </tr>\n",
       "    <tr>\n",
       "      <th>23</th>\n",
       "      <td>2023-01-24</td>\n",
       "    </tr>\n",
       "    <tr>\n",
       "      <th>24</th>\n",
       "      <td>2023-01-25</td>\n",
       "    </tr>\n",
       "    <tr>\n",
       "      <th>25</th>\n",
       "      <td>2023-01-26</td>\n",
       "    </tr>\n",
       "    <tr>\n",
       "      <th>26</th>\n",
       "      <td>2023-01-27</td>\n",
       "    </tr>\n",
       "    <tr>\n",
       "      <th>27</th>\n",
       "      <td>2023-01-28</td>\n",
       "    </tr>\n",
       "    <tr>\n",
       "      <th>28</th>\n",
       "      <td>2023-01-29</td>\n",
       "    </tr>\n",
       "    <tr>\n",
       "      <th>29</th>\n",
       "      <td>2023-01-30</td>\n",
       "    </tr>\n",
       "    <tr>\n",
       "      <th>30</th>\n",
       "      <td>2023-01-31</td>\n",
       "    </tr>\n",
       "  </tbody>\n",
       "</table>\n",
       "</div>"
      ],
      "text/plain": [
       "         Date\n",
       "0  2023-01-01\n",
       "1  2023-01-02\n",
       "2  2023-01-03\n",
       "3  2023-01-04\n",
       "4  2023-01-05\n",
       "5  2023-01-06\n",
       "6  2023-01-07\n",
       "7  2023-01-08\n",
       "8  2023-01-09\n",
       "9  2023-01-10\n",
       "10 2023-01-11\n",
       "11 2023-01-12\n",
       "12 2023-01-13\n",
       "13 2023-01-14\n",
       "14 2023-01-15\n",
       "15 2023-01-16\n",
       "16 2023-01-17\n",
       "17 2023-01-18\n",
       "18 2023-01-19\n",
       "19 2023-01-20\n",
       "20 2023-01-21\n",
       "21 2023-01-22\n",
       "22 2023-01-23\n",
       "23 2023-01-24\n",
       "24 2023-01-25\n",
       "25 2023-01-26\n",
       "26 2023-01-27\n",
       "27 2023-01-28\n",
       "28 2023-01-29\n",
       "29 2023-01-30\n",
       "30 2023-01-31"
      ]
     },
     "execution_count": 46,
     "metadata": {},
     "output_type": "execute_result"
    }
   ],
   "source": [
    "import pandas as pd\n",
    "\n",
    "def select_rows_by_date(df):\n",
    "    mask = (df['Date'] >= '2023-01-01') & (df['Date'] <= '2023-01-31')\n",
    "    selected_df = df.loc[mask]\n",
    "    return selected_df\n",
    "\n",
    "# Usage:\n",
    "data = {'Date': pd.date_range(start='2023-01-01', end='2023-02-28')}\n",
    "df = pd.DataFrame(data)\n",
    "selected_rows = select_rows_by_date(df)\n",
    "selected_rows\n"
   ]
  },
  {
   "cell_type": "markdown",
   "id": "88bde64b-6e3a-451b-a098-a4a56e01d71e",
   "metadata": {},
   "source": [
    "## Q13. To use the basic functions of pandas, what is the first and foremost necessary library that needs to be imported?"
   ]
  },
  {
   "cell_type": "markdown",
   "id": "65ca1fa4-8a0a-4985-8631-057c1a01238f",
   "metadata": {},
   "source": [
    "## import pandas as pd \n",
    " pandas library is the first and foremost library that is needs to be imported"
   ]
  },
  {
   "cell_type": "code",
   "execution_count": null,
   "id": "3e80e546-49cd-4672-9571-62ec53de464b",
   "metadata": {},
   "outputs": [],
   "source": []
  }
 ],
 "metadata": {
  "kernelspec": {
   "display_name": "Python 3 (ipykernel)",
   "language": "python",
   "name": "python3"
  },
  "language_info": {
   "codemirror_mode": {
    "name": "ipython",
    "version": 3
   },
   "file_extension": ".py",
   "mimetype": "text/x-python",
   "name": "python",
   "nbconvert_exporter": "python",
   "pygments_lexer": "ipython3",
   "version": "3.10.9"
  }
 },
 "nbformat": 4,
 "nbformat_minor": 5
}
