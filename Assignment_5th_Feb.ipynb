{
 "cells": [
  {
   "cell_type": "markdown",
   "id": "7f3890b4-fcfe-40ec-8abd-a968eec676dd",
   "metadata": {},
   "source": [
    "## Q1. Explain Class and Object with respect to Object-Oriented Programming. Give a suitable example."
   ]
  },
  {
   "cell_type": "markdown",
   "id": "dfbcb73c-93db-49da-9d18-ddb934dc05af",
   "metadata": {},
   "source": [
    "Ans: class is a logical entity which has some attributes and variables. object is a reference to the class and it has all the properties if the class.\n",
    "     In short class ccan be called as a blueprint of an object"
   ]
  },
  {
   "cell_type": "code",
   "execution_count": 1,
   "id": "712f19f4-5854-408a-bf82-d9736ea8fb1a",
   "metadata": {},
   "outputs": [],
   "source": [
    "## declaring the class named manoj\n",
    "\n",
    "class manoj:\n",
    "    \n",
    "    def name(self):\n",
    "        print(\"My name is manoj\")"
   ]
  },
  {
   "cell_type": "code",
   "execution_count": 2,
   "id": "58badcbc-e22a-4ea2-b8f2-209b2acb29a0",
   "metadata": {},
   "outputs": [],
   "source": [
    "## object creation\n",
    "\n",
    "m = manoj()"
   ]
  },
  {
   "cell_type": "code",
   "execution_count": 3,
   "id": "fd49de1e-cb5a-491a-8e95-64fa339bca5f",
   "metadata": {},
   "outputs": [
    {
     "name": "stdout",
     "output_type": "stream",
     "text": [
      "My name is manoj\n"
     ]
    }
   ],
   "source": [
    "m.name()"
   ]
  },
  {
   "cell_type": "markdown",
   "id": "8c924771-9749-4028-b3b7-8b5454b39763",
   "metadata": {},
   "source": [
    "## Q2. Name the four pillars of OOPs."
   ]
  },
  {
   "cell_type": "markdown",
   "id": "70aafa1c-eec5-467a-94c5-ab31413f1b4f",
   "metadata": {},
   "source": [
    "Ans: Four pillars of oops are:\n",
    "1. Abstraction\n",
    "2. Encapsulation\n",
    "3. Polymorphism\n",
    "4. Inheritance"
   ]
  },
  {
   "cell_type": "markdown",
   "id": "5012cb99-a7f5-4f60-860b-6e3070d27bd4",
   "metadata": {},
   "source": [
    "## Q3. Explain why the __init__() function is used. Give a suitable example."
   ]
  },
  {
   "cell_type": "markdown",
   "id": "1e378a75-63ed-464b-9802-709fb09787da",
   "metadata": {},
   "source": [
    "Ans: __init__() method is a special method used when creating an object and it is used to initialize the attributes of the object with the values passed as arguments to the constructor. "
   ]
  },
  {
   "cell_type": "code",
   "execution_count": 7,
   "id": "b437e5a4-8e12-4d85-a321-a5910e0c566f",
   "metadata": {},
   "outputs": [],
   "source": [
    "class vishu:\n",
    "    def __init__(self,name,age):\n",
    "        self.name = name\n",
    "        self.age = age\n",
    "    \n",
    "    def details(self):\n",
    "        print(f\"My name is {self.name} and my age is {self.age}. \")"
   ]
  },
  {
   "cell_type": "code",
   "execution_count": 8,
   "id": "087c0a58-6225-44ad-8028-65f4becd5aaf",
   "metadata": {},
   "outputs": [],
   "source": [
    "v = vishu(\"manoj\",21)"
   ]
  },
  {
   "cell_type": "code",
   "execution_count": 9,
   "id": "d373fca8-ca8c-467e-acb7-909deafac482",
   "metadata": {},
   "outputs": [
    {
     "name": "stdout",
     "output_type": "stream",
     "text": [
      "My name is manoj and my age is 21. \n"
     ]
    }
   ],
   "source": [
    "v.details()"
   ]
  },
  {
   "cell_type": "markdown",
   "id": "f9e08d3a-66be-4799-bd91-48b6ae282d77",
   "metadata": {},
   "source": [
    "## Q4. Why self is used in OOPs?"
   ]
  },
  {
   "cell_type": "markdown",
   "id": "16ae9b63-d3d1-4f90-a3a5-eaa3b14505ab",
   "metadata": {},
   "source": [
    "Ans: In object-oriented programming, self is a reference to the instance of the class. It is used to access the instance variables and methods of a class from within the class."
   ]
  },
  {
   "cell_type": "markdown",
   "id": "c700737c-64f7-4b91-8830-71b663262741",
   "metadata": {},
   "source": [
    "## Q5. What is inheritance? Give an example for each type of inheritance."
   ]
  },
  {
   "cell_type": "markdown",
   "id": "c40110bd-6958-42fe-9fb3-2432f0cff64b",
   "metadata": {},
   "source": [
    "Ans: In object-oriented programming Inheritance is a concept where the properties of super class is inherited by subclass.\n",
    "Basically inheritance is of three types\n",
    "1. Single level inheritance\n",
    "2. Multi level inheritance\n",
    "3. Multiple inheritance\n"
   ]
  },
  {
   "cell_type": "code",
   "execution_count": 10,
   "id": "aa6b54b5-51af-4b01-8c7d-1c44b667882c",
   "metadata": {},
   "outputs": [
    {
     "name": "stdout",
     "output_type": "stream",
     "text": [
      "Some sound\n",
      "Woof!\n"
     ]
    }
   ],
   "source": [
    "## Single level\n",
    "\n",
    "class Animal:\n",
    "    def make_sound(self):\n",
    "        print(\"Some sound\")\n",
    "\n",
    "class Dog(Animal):\n",
    "    def bark(self):\n",
    "        print(\"Woof!\")\n",
    "\n",
    "d = Dog()\n",
    "d.make_sound()  \n",
    "d.bark()  \n"
   ]
  },
  {
   "cell_type": "code",
   "execution_count": 11,
   "id": "e75bddf0-a9be-4a14-8a5c-8bd644200649",
   "metadata": {},
   "outputs": [
    {
     "name": "stdout",
     "output_type": "stream",
     "text": [
      "Some sound\n",
      "Woof!\n",
      "I am guarding\n"
     ]
    }
   ],
   "source": [
    "## Multi level \n",
    "\n",
    "class Animal:\n",
    "    def make_sound(self):\n",
    "        print(\"Some sound\")\n",
    "\n",
    "class Dog(Animal):\n",
    "    def bark(self):\n",
    "        print(\"Woof!\")\n",
    "\n",
    "class Bulldog(Dog):\n",
    "    def guard(self):\n",
    "        print(\"I am guarding\")\n",
    "\n",
    "b = Bulldog()\n",
    "b.make_sound()  \n",
    "b.bark()   \n",
    "b.guard()  \n"
   ]
  },
  {
   "cell_type": "code",
   "execution_count": 12,
   "id": "69b33be6-6fe2-4f04-a0c9-10afe9f1763c",
   "metadata": {},
   "outputs": [
    {
     "name": "stdout",
     "output_type": "stream",
     "text": [
      "Method of class A\n"
     ]
    }
   ],
   "source": [
    "## Multiple\n",
    "\n",
    "class A:\n",
    "    def method(self):\n",
    "        print(\"Method of class A\")\n",
    "\n",
    "class B:\n",
    "    def method(self):\n",
    "        print(\"Method of class B\")\n",
    "\n",
    "class C(A, B):\n",
    "    pass\n",
    "\n",
    "c = C()\n",
    "c.method()  \n"
   ]
  },
  {
   "cell_type": "code",
   "execution_count": null,
   "id": "9fb129f9-ac43-4b7e-ae9f-e8af714bc0a6",
   "metadata": {},
   "outputs": [],
   "source": []
  }
 ],
 "metadata": {
  "kernelspec": {
   "display_name": "Python 3 (ipykernel)",
   "language": "python",
   "name": "python3"
  },
  "language_info": {
   "codemirror_mode": {
    "name": "ipython",
    "version": 3
   },
   "file_extension": ".py",
   "mimetype": "text/x-python",
   "name": "python",
   "nbconvert_exporter": "python",
   "pygments_lexer": "ipython3",
   "version": "3.10.8"
  }
 },
 "nbformat": 4,
 "nbformat_minor": 5
}
